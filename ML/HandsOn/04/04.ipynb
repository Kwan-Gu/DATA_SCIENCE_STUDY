{
 "cells": [
  {
   "cell_type": "markdown",
   "metadata": {},
   "source": [
    "# 4.1. 선형 회귀\n",
    "\n",
    "\n",
    "## 4.1.1. 정규방정식"
   ]
  },
  {
   "cell_type": "code",
   "execution_count": 1,
   "metadata": {},
   "outputs": [
    {
     "data": {
      "image/png": "[encoded data removed]",
      "text/plain": [
       "<Figure size 432x288 with 1 Axes>"
      ]
     },
     "metadata": {
      "needs_background": "light"
     },
     "output_type": "display_data"
    }
   ],
   "source": [
    "import numpy as np\n",
    "import matplotlib.pyplot as plt\n",
    "\n",
    "\n",
    "X = 2 * np.random.rand(100, 1) # Uniform distribution\n",
    "y = 4 + 3 * X + np.random.randn(100, 1) # 표준정규분포\n",
    "\n",
    "fig, sub = plt.subplots()\n",
    "\n",
    "sub.scatter(X, y, s = 5, c = \"k\")\n",
    "\n",
    "plt.show()"
   ]
  },
  {
   "cell_type": "code",
   "execution_count": 2,
   "metadata": {},
   "outputs": [
    {
     "data": {
      "text/plain": [
       "array([[4.17125185],\n",
       "       [2.85314887]])"
      ]
     },
     "execution_count": 2,
     "metadata": {},
     "output_type": "execute_result"
    }
   ],
   "source": [
    "X_b = np.c_[np.ones((100, 1)), X]\n",
    "theta_best = np.linalg.inv(X_b.T.dot(X_b)).dot(X_b.T).dot(y)\n",
    "\n",
    "theta_best"
   ]
  },
  {
   "cell_type": "code",
   "execution_count": 3,
   "metadata": {
    "scrolled": true
   },
   "outputs": [
    {
     "data": {
      "text/plain": [
       "array([[0.24840487],\n",
       "       [0.51238957],\n",
       "       [0.52238932],\n",
       "       [1.37006542],\n",
       "       [1.05140948],\n",
       "       [0.08343552],\n",
       "       [0.08874891],\n",
       "       [1.30921379],\n",
       "       [1.68846109],\n",
       "       [0.77287254],\n",
       "       [1.55685016],\n",
       "       [1.61274642],\n",
       "       [1.62691353],\n",
       "       [0.6513496 ],\n",
       "       [0.01017504],\n",
       "       [0.7936259 ],\n",
       "       [0.16454955],\n",
       "       [0.85386009],\n",
       "       [1.93943498],\n",
       "       [0.57014687],\n",
       "       [0.06717723],\n",
       "       [1.56344008],\n",
       "       [1.50504449],\n",
       "       [0.54423928],\n",
       "       [0.87732494],\n",
       "       [1.43742323],\n",
       "       [0.77795847],\n",
       "       [0.02526403],\n",
       "       [0.0765208 ],\n",
       "       [0.86821479],\n",
       "       [1.07547675],\n",
       "       [1.53869305],\n",
       "       [0.13181359],\n",
       "       [0.3994739 ],\n",
       "       [0.96910227],\n",
       "       [0.63264654],\n",
       "       [1.01226483],\n",
       "       [0.11693355],\n",
       "       [0.62500065],\n",
       "       [1.78317711],\n",
       "       [0.76738233],\n",
       "       [0.57843965],\n",
       "       [0.1031606 ],\n",
       "       [1.18277426],\n",
       "       [0.20001144],\n",
       "       [1.3632315 ],\n",
       "       [0.127034  ],\n",
       "       [0.01773955],\n",
       "       [1.67253675],\n",
       "       [1.67355271],\n",
       "       [0.55882756],\n",
       "       [1.95613253],\n",
       "       [1.89274193],\n",
       "       [1.6804902 ],\n",
       "       [1.05851673],\n",
       "       [0.4618936 ],\n",
       "       [0.80052975],\n",
       "       [0.69031021],\n",
       "       [1.40748111],\n",
       "       [1.65633449],\n",
       "       [0.22894879],\n",
       "       [0.20046895],\n",
       "       [1.8723476 ],\n",
       "       [0.1094201 ],\n",
       "       [1.62502998],\n",
       "       [1.66075383],\n",
       "       [1.20782482],\n",
       "       [1.77759455],\n",
       "       [0.59416229],\n",
       "       [0.0708598 ],\n",
       "       [0.3848023 ],\n",
       "       [0.04217828],\n",
       "       [0.41909298],\n",
       "       [0.15190702],\n",
       "       [1.88671128],\n",
       "       [1.29551721],\n",
       "       [1.75713825],\n",
       "       [0.12817441],\n",
       "       [0.28349341],\n",
       "       [1.17146763],\n",
       "       [1.68211191],\n",
       "       [1.09893608],\n",
       "       [0.77677105],\n",
       "       [0.67974073],\n",
       "       [1.88523507],\n",
       "       [1.22420825],\n",
       "       [0.84465156],\n",
       "       [0.71305332],\n",
       "       [0.16308372],\n",
       "       [1.37469921],\n",
       "       [0.58548474],\n",
       "       [1.73692669],\n",
       "       [1.05696952],\n",
       "       [1.26979324],\n",
       "       [1.09709779],\n",
       "       [0.77842599],\n",
       "       [0.92219157],\n",
       "       [1.15721227],\n",
       "       [1.73819627],\n",
       "       [0.32532449]])"
      ]
     },
     "execution_count": 3,
     "metadata": {},
     "output_type": "execute_result"
    }
   ],
   "source": [
    "X"
   ]
  },
  {
   "cell_type": "code",
   "execution_count": 4,
   "metadata": {
    "scrolled": true
   },
   "outputs": [
    {
     "data": {
      "text/plain": [
       "array([[1.        , 0.24840487],\n",
       "       [1.        , 0.51238957],\n",
       "       [1.        , 0.52238932],\n",
       "       [1.        , 1.37006542],\n",
       "       [1.        , 1.05140948],\n",
       "       [1.        , 0.08343552],\n",
       "       [1.        , 0.08874891],\n",
       "       [1.        , 1.30921379],\n",
       "       [1.        , 1.68846109],\n",
       "       [1.        , 0.77287254],\n",
       "       [1.        , 1.55685016],\n",
       "       [1.        , 1.61274642],\n",
       "       [1.        , 1.62691353],\n",
       "       [1.        , 0.6513496 ],\n",
       "       [1.        , 0.01017504],\n",
       "       [1.        , 0.7936259 ],\n",
       "       [1.        , 0.16454955],\n",
       "       [1.        , 0.85386009],\n",
       "       [1.        , 1.93943498],\n",
       "       [1.        , 0.57014687],\n",
       "       [1.        , 0.06717723],\n",
       "       [1.        , 1.56344008],\n",
       "       [1.        , 1.50504449],\n",
       "       [1.        , 0.54423928],\n",
       "       [1.        , 0.87732494],\n",
       "       [1.        , 1.43742323],\n",
       "       [1.        , 0.77795847],\n",
       "       [1.        , 0.02526403],\n",
       "       [1.        , 0.0765208 ],\n",
       "       [1.        , 0.86821479],\n",
       "       [1.        , 1.07547675],\n",
       "       [1.        , 1.53869305],\n",
       "       [1.        , 0.13181359],\n",
       "       [1.        , 0.3994739 ],\n",
       "       [1.        , 0.96910227],\n",
       "       [1.        , 0.63264654],\n",
       "       [1.        , 1.01226483],\n",
       "       [1.        , 0.11693355],\n",
       "       [1.        , 0.62500065],\n",
       "       [1.        , 1.78317711],\n",
       "       [1.        , 0.76738233],\n",
       "       [1.        , 0.57843965],\n",
       "       [1.        , 0.1031606 ],\n",
       "       [1.        , 1.18277426],\n",
       "       [1.        , 0.20001144],\n",
       "       [1.        , 1.3632315 ],\n",
       "       [1.        , 0.127034  ],\n",
       "       [1.        , 0.01773955],\n",
       "       [1.        , 1.67253675],\n",
       "       [1.        , 1.67355271],\n",
       "       [1.        , 0.55882756],\n",
       "       [1.        , 1.95613253],\n",
       "       [1.        , 1.89274193],\n",
       "       [1.        , 1.6804902 ],\n",
       "       [1.        , 1.05851673],\n",
       "       [1.        , 0.4618936 ],\n",
       "       [1.        , 0.80052975],\n",
       "       [1.        , 0.69031021],\n",
       "       [1.        , 1.40748111],\n",
       "       [1.        , 1.65633449],\n",
       "       [1.        , 0.22894879],\n",
       "       [1.        , 0.20046895],\n",
       "       [1.        , 1.8723476 ],\n",
       "       [1.        , 0.1094201 ],\n",
       "       [1.        , 1.62502998],\n",
       "       [1.        , 1.66075383],\n",
       "       [1.        , 1.20782482],\n",
       "       [1.        , 1.77759455],\n",
       "       [1.        , 0.59416229],\n",
       "       [1.        , 0.0708598 ],\n",
       "       [1.        , 0.3848023 ],\n",
       "       [1.        , 0.04217828],\n",
       "       [1.        , 0.41909298],\n",
       "       [1.        , 0.15190702],\n",
       "       [1.        , 1.88671128],\n",
       "       [1.        , 1.29551721],\n",
       "       [1.        , 1.75713825],\n",
       "       [1.        , 0.12817441],\n",
       "       [1.        , 0.28349341],\n",
       "       [1.        , 1.17146763],\n",
       "       [1.        , 1.68211191],\n",
       "       [1.        , 1.09893608],\n",
       "       [1.        , 0.77677105],\n",
       "       [1.        , 0.67974073],\n",
       "       [1.        , 1.88523507],\n",
       "       [1.        , 1.22420825],\n",
       "       [1.        , 0.84465156],\n",
       "       [1.        , 0.71305332],\n",
       "       [1.        , 0.16308372],\n",
       "       [1.        , 1.37469921],\n",
       "       [1.        , 0.58548474],\n",
       "       [1.        , 1.73692669],\n",
       "       [1.        , 1.05696952],\n",
       "       [1.        , 1.26979324],\n",
       "       [1.        , 1.09709779],\n",
       "       [1.        , 0.77842599],\n",
       "       [1.        , 0.92219157],\n",
       "       [1.        , 1.15721227],\n",
       "       [1.        , 1.73819627],\n",
       "       [1.        , 0.32532449]])"
      ]
     },
     "execution_count": 4,
     "metadata": {},
     "output_type": "execute_result"
    }
   ],
   "source": [
    "X_b"
   ]
  },
  {
   "cell_type": "code",
   "execution_count": 5,
   "metadata": {},
   "outputs": [
    {
     "data": {
      "text/plain": [
       "array([[4.17125185],\n",
       "       [9.8775496 ]])"
      ]
     },
     "execution_count": 5,
     "metadata": {},
     "output_type": "execute_result"
    }
   ],
   "source": [
    "X_new = np.array([[0], [2]])\n",
    "X_new_b = np.c_[np.ones((2, 1)), X_new]\n",
    "\n",
    "y_predict = X_new_b.dot(theta_best)\n",
    "\n",
    "y_predict"
   ]
  },
  {
   "cell_type": "code",
   "execution_count": 6,
   "metadata": {
    "scrolled": true
   },
   "outputs": [
    {
     "data": {
      "image/png": "[encoded data removed]",
      "text/plain": [
       "<Figure size 432x288 with 1 Axes>"
      ]
     },
     "metadata": {
      "needs_background": "light"
     },
     "output_type": "display_data"
    }
   ],
   "source": [
    "fig, sub = plt.subplots()\n",
    "\n",
    "sub.plot(X_new, y_predict, \"r-\")\n",
    "sub.plot(X, y, \"k.\", ms = 5)\n",
    "\n",
    "sub.axis([0, 2, 0, 15])\n",
    "\n",
    "plt.show()"
   ]
  },
  {
   "cell_type": "code",
   "execution_count": 7,
   "metadata": {},
   "outputs": [
    {
     "data": {
      "text/plain": [
       "(array([4.17125185]), array([[2.85314887]]))"
      ]
     },
     "execution_count": 7,
     "metadata": {},
     "output_type": "execute_result"
    }
   ],
   "source": [
    "from sklearn.linear_model import LinearRegression\n",
    "\n",
    "\n",
    "lin_reg = LinearRegression()\n",
    "lin_reg.fit(X, y)\n",
    "\n",
    "lin_reg.intercept_, lin_reg.coef_"
   ]
  },
  {
   "cell_type": "code",
   "execution_count": 8,
   "metadata": {},
   "outputs": [
    {
     "data": {
      "text/plain": [
       "array([[4.17125185],\n",
       "       [9.8775496 ]])"
      ]
     },
     "execution_count": 8,
     "metadata": {},
     "output_type": "execute_result"
    }
   ],
   "source": [
    "lin_reg.predict(X_new)"
   ]
  },
  {
   "cell_type": "code",
   "execution_count": 9,
   "metadata": {},
   "outputs": [
    {
     "data": {
      "text/plain": [
       "array([[4.17125185],\n",
       "       [2.85314887]])"
      ]
     },
     "execution_count": 9,
     "metadata": {},
     "output_type": "execute_result"
    }
   ],
   "source": [
    "theta_best_svd, residuals, rank, s = np.linalg.lstsq(X_b, y, rcond = 1e-6)\n",
    "\n",
    "theta_best_svd # 최소제곱법"
   ]
  },
  {
   "cell_type": "code",
   "execution_count": 10,
   "metadata": {},
   "outputs": [
    {
     "data": {
      "text/plain": [
       "array([[4.17125185],\n",
       "       [2.85314887]])"
      ]
     },
     "execution_count": 10,
     "metadata": {},
     "output_type": "execute_result"
    }
   ],
   "source": [
    "np.linalg.pinv(X_b).dot(y) # 유사역행렬로 풀었을 때"
   ]
  },
  {
   "cell_type": "markdown",
   "metadata": {},
   "source": [
    "# 4.2. 경사 하강법\n",
    "\n",
    "\n",
    "## 4.2.1. 배치 경사 하강법"
   ]
  },
  {
   "cell_type": "markdown",
   "metadata": {},
   "source": [
    "* 경사 하강법의 스텝"
   ]
  },
  {
   "cell_type": "code",
   "execution_count": 11,
   "metadata": {},
   "outputs": [
    {
     "data": {
      "text/plain": [
       "array([[4.17125185],\n",
       "       [2.85314887]])"
      ]
     },
     "execution_count": 11,
     "metadata": {},
     "output_type": "execute_result"
    }
   ],
   "source": [
    "eta = 0.1\n",
    "n_iterations = 1000\n",
    "m = 100 # 샘플 개수\n",
    "\n",
    "theta = np.random.randn(2, 1)\n",
    "\n",
    "for iteration in range(n_iterations):\n",
    "    gradients = 2 / m * X_b.T.dot(X_b.dot(theta) - y)\n",
    "    \n",
    "    theta = theta - eta * gradients\n",
    "\n",
    "theta"
   ]
  },
  {
   "cell_type": "markdown",
   "metadata": {},
   "source": [
    "## 4.2.2. 확률적 경사 하강법"
   ]
  },
  {
   "cell_type": "code",
   "execution_count": 12,
   "metadata": {},
   "outputs": [
    {
     "data": {
      "text/plain": [
       "array([[4.2095681],\n",
       "       [2.8824034]])"
      ]
     },
     "execution_count": 12,
     "metadata": {},
     "output_type": "execute_result"
    }
   ],
   "source": [
    "n_epochs = 50\n",
    "t0, t1 = 5, 50\n",
    "\n",
    "def learning_schedule(t):\n",
    "    return t0 / (t + t1)\n",
    "\n",
    "theta = np.random.randn(2, 1)\n",
    "\n",
    "for epoch in range(n_epochs):\n",
    "    for i in range(m):\n",
    "        random_index = np.random.randint(m) # m보다 작은 랜덤한 숫자 하나 출력\n",
    "        \n",
    "        xi = X_b[random_index : random_index + 1]\n",
    "        yi = y[random_index : random_index + 1]\n",
    "        \n",
    "        gradients = 2 * xi.T.dot(xi.dot(theta) - yi)\n",
    "        eta = learning_schedule(epoch * m + i)\n",
    "        \n",
    "        theta = theta - eta * gradients\n",
    "\n",
    "theta"
   ]
  },
  {
   "cell_type": "code",
   "execution_count": 13,
   "metadata": {},
   "outputs": [
    {
     "data": {
      "text/plain": [
       "(array([4.2537851]), array([2.94923607]))"
      ]
     },
     "execution_count": 13,
     "metadata": {},
     "output_type": "execute_result"
    }
   ],
   "source": [
    "from sklearn.linear_model import SGDRegressor\n",
    "\n",
    "\n",
    "sgd_reg = SGDRegressor(max_iter = 1000, tol = 1e-3, penalty = None, eta0 = 0.1)\n",
    "sgd_reg.fit(X, y.ravel())\n",
    "\n",
    "sgd_reg.intercept_, sgd_reg.coef_"
   ]
  },
  {
   "cell_type": "markdown",
   "metadata": {},
   "source": [
    "# 4.3. 다항 회귀"
   ]
  },
  {
   "cell_type": "code",
   "execution_count": 14,
   "metadata": {},
   "outputs": [
    {
     "data": {
      "image/png": "[encoded data removed]",
      "text/plain": [
       "<Figure size 432x288 with 1 Axes>"
      ]
     },
     "metadata": {
      "needs_background": "light"
     },
     "output_type": "display_data"
    }
   ],
   "source": [
    "import numpy as np\n",
    "import matplotlib.pyplot as plt\n",
    "\n",
    "m = 100\n",
    "X = 6 * np.random.rand(m, 1) - 3\n",
    "y = 0.5 * X**2 + X + 2 + np.random.randn(m, 1)\n",
    "\n",
    "plt.scatter(X, y)\n",
    "plt.show()"
   ]
  },
  {
   "cell_type": "code",
   "execution_count": 15,
   "metadata": {},
   "outputs": [
    {
     "data": {
      "text/plain": [
       "(array([0.74521144]), array([0.74521144, 0.5553401 ]))"
      ]
     },
     "execution_count": 15,
     "metadata": {},
     "output_type": "execute_result"
    }
   ],
   "source": [
    "from sklearn.preprocessing import PolynomialFeatures\n",
    "\n",
    "poly_features = PolynomialFeatures(degree = 2, include_bias = False)\n",
    "X_poly = poly_features.fit_transform(X)\n",
    "\n",
    "X[0], X_poly[0]"
   ]
  },
  {
   "cell_type": "code",
   "execution_count": 16,
   "metadata": {},
   "outputs": [
    {
     "data": {
      "text/plain": [
       "(array([2.152422]), array([[0.94024917, 0.49413446]]))"
      ]
     },
     "execution_count": 16,
     "metadata": {},
     "output_type": "execute_result"
    }
   ],
   "source": [
    "from sklearn.linear_model import LinearRegression\n",
    "\n",
    "lin_reg = LinearRegression()\n",
    "lin_reg.fit(X_poly, y)\n",
    "lin_reg.intercept_, lin_reg.coef_"
   ]
  },
  {
   "cell_type": "markdown",
   "metadata": {},
   "source": [
    "# 4.4. 학습 곡선"
   ]
  },
  {
   "cell_type": "code",
   "execution_count": 17,
   "metadata": {},
   "outputs": [],
   "source": [
    "from sklearn.metrics import mean_squared_error\n",
    "from sklearn.model_selection import train_test_split\n",
    "\n",
    "def plot_learning_curves(model, X, y):\n",
    "    X_train, X_val, y_train, y_val = train_test_split(X, y, test_size = 0.2)\n",
    "    train_errors, val_errors = [], []\n",
    "    \n",
    "    for m in range(1, len(X_train)):\n",
    "        model.fit(X_train[: m], y_train[: m])\n",
    "        y_train_predict = model.predict(X_train[: m])\n",
    "        y_val_predict   = model.predict(X_val)\n",
    "        \n",
    "        train_errors.append(mean_squared_error(y_train[: m], y_train_predict))\n",
    "        val_errors.append(mean_squared_error(y_val, y_val_predict))\n",
    "        \n",
    "    plt.plot(np.sqrt(train_errors), \"r-+\", lw = 1, label = \"훈련\")\n",
    "    plt.plot(np.sqrt(val_errors), \"b-\", lw = 1, label = \"검증\")\n",
    "    plt.show()"
   ]
  },
  {
   "cell_type": "code",
   "execution_count": 18,
   "metadata": {},
   "outputs": [
    {
     "data": {
      "image/png": "[encoded data removed]",
      "text/plain": [
       "<Figure size 432x288 with 1 Axes>"
      ]
     },
     "metadata": {
      "needs_background": "light"
     },
     "output_type": "display_data"
    }
   ],
   "source": [
    "lin_reg = LinearRegression()\n",
    "plot_learning_curves(lin_reg, X, y)"
   ]
  },
  {
   "cell_type": "code",
   "execution_count": 19,
   "metadata": {},
   "outputs": [
    {
     "data": {
      "image/png": "[encoded data removed]",
      "text/plain": [
       "<Figure size 432x288 with 1 Axes>"
      ]
     },
     "metadata": {
      "needs_background": "light"
     },
     "output_type": "display_data"
    }
   ],
   "source": [
    "from sklearn.pipeline import Pipeline\n",
    "\n",
    "polynomial_regression = Pipeline([\n",
    "    (\"poly_features\", PolynomialFeatures(degree = 10, include_bias = False)),\n",
    "    (\"lin_reg\", LinearRegression()),\n",
    "    ])\n",
    "\n",
    "plot_learning_curves(polynomial_regression, X, y)"
   ]
  },
  {
   "cell_type": "markdown",
   "metadata": {},
   "source": [
    "# 4.5. 규제가 있는 선형 모델\n",
    "## 4.5.1. 릿지 회귀"
   ]
  },
  {
   "cell_type": "code",
   "execution_count": 20,
   "metadata": {},
   "outputs": [
    {
     "data": {
      "text/plain": [
       "array([[4.94370863]])"
      ]
     },
     "execution_count": 20,
     "metadata": {},
     "output_type": "execute_result"
    }
   ],
   "source": [
    "from sklearn.linear_model import Ridge\n",
    "\n",
    "ridge_reg = Ridge(alpha = 1, solver = \"cholesky\")\n",
    "ridge_reg.fit(X, y)\n",
    "\n",
    "ridge_reg.predict([[1.5]])"
   ]
  },
  {
   "cell_type": "code",
   "execution_count": 21,
   "metadata": {},
   "outputs": [
    {
     "data": {
      "text/plain": [
       "array([4.93742852])"
      ]
     },
     "execution_count": 21,
     "metadata": {},
     "output_type": "execute_result"
    }
   ],
   "source": [
    "from sklearn.linear_model import SGDRegressor\n",
    "\n",
    "sgd_reg = SGDRegressor(penalty = \"l2\")\n",
    "sgd_reg.fit(X, y.ravel())\n",
    "\n",
    "sgd_reg.predict([[1.5]])"
   ]
  },
  {
   "cell_type": "markdown",
   "metadata": {},
   "source": [
    "## 4.5.2. 라쏘 회귀"
   ]
  },
  {
   "cell_type": "code",
   "execution_count": 22,
   "metadata": {},
   "outputs": [
    {
     "data": {
      "text/plain": [
       "array([4.89663693])"
      ]
     },
     "execution_count": 22,
     "metadata": {},
     "output_type": "execute_result"
    }
   ],
   "source": [
    "from sklearn.linear_model import Lasso\n",
    "\n",
    "lasso_reg = Lasso(alpha = 0.1)\n",
    "lasso_reg.fit(X, y)\n",
    "\n",
    "lasso_reg.predict([[1.5]])"
   ]
  },
  {
   "cell_type": "markdown",
   "metadata": {},
   "source": [
    "## 4.5.3. 엘라스틱넷"
   ]
  },
  {
   "cell_type": "code",
   "execution_count": 23,
   "metadata": {},
   "outputs": [
    {
     "data": {
      "text/plain": [
       "array([4.89898774])"
      ]
     },
     "execution_count": 23,
     "metadata": {},
     "output_type": "execute_result"
    }
   ],
   "source": [
    "from sklearn.linear_model import ElasticNet\n",
    "\n",
    "elastic_net = ElasticNet(alpha = 0.1, l1_ratio = 0.5)\n",
    "elastic_net.fit(X, y)\n",
    "\n",
    "elastic_net.predict([[1.5]])"
   ]
  },
  {
   "cell_type": "code",
   "execution_count": 24,
   "metadata": {},
   "outputs": [
    {
     "ename": "NameError",
     "evalue": "name 'X_train' is not defined",
     "output_type": "error",
     "traceback": [
      "\u001b[1;31m---------------------------------------------------------------------------\u001b[0m",
      "\u001b[1;31mNameError\u001b[0m                                 Traceback (most recent call last)",
      "\u001b[1;32m<ipython-input-24-9b719b6bf455>\u001b[0m in \u001b[0;36m<module>\u001b[1;34m\u001b[0m\n\u001b[0;32m      7\u001b[0m     ])\n\u001b[0;32m      8\u001b[0m \u001b[1;33m\u001b[0m\u001b[0m\n\u001b[1;32m----> 9\u001b[1;33m \u001b[0mX_train_poly_scaled\u001b[0m \u001b[1;33m=\u001b[0m \u001b[0mpoly_scaler\u001b[0m\u001b[1;33m.\u001b[0m\u001b[0mfit\u001b[0m\u001b[1;33m(\u001b[0m\u001b[0mX_train\u001b[0m\u001b[1;33m)\u001b[0m\u001b[1;33m\u001b[0m\u001b[1;33m\u001b[0m\u001b[0m\n\u001b[0m\u001b[0;32m     10\u001b[0m \u001b[0mX_val_poly_scaled\u001b[0m   \u001b[1;33m=\u001b[0m \u001b[0mpoly_scaler\u001b[0m\u001b[1;33m.\u001b[0m\u001b[0mtransform\u001b[0m\u001b[1;33m(\u001b[0m\u001b[0mX_val\u001b[0m\u001b[1;33m)\u001b[0m\u001b[1;33m\u001b[0m\u001b[1;33m\u001b[0m\u001b[0m\n\u001b[0;32m     11\u001b[0m \u001b[1;33m\u001b[0m\u001b[0m\n",
      "\u001b[1;31mNameError\u001b[0m: name 'X_train' is not defined"
     ]
    }
   ],
   "source": [
    "from sklearn.base import clone\n",
    "from sklearn.preprocessing import StandardScaler\n",
    "\n",
    "poly_scaler = Pipeline([\n",
    "    (\"poly_features\", PolynomialFeatures(degree = 90, include_bias = False)),\n",
    "    (\"std_scaler\", StandardScaler())\n",
    "    ])\n",
    "\n",
    "X_train_poly_scaled = poly_scaler.fit(X_train)\n",
    "X_val_poly_scaled   = poly_scaler.transform(X_val)\n",
    "\n",
    "sgd_reg = SGDRegressor(max_iter = 1, tol = -np.infty, warm_start = True, penalty = None, learning_rate = \"constant\",\\\n",
    "                       eta0 = 0.0005)\n",
    "\n",
    "minimum_val_error = float(\"inf\")\n",
    "best_epoch = None\n",
    "best_model = None\n",
    "\n",
    "for epoch in range(1000):\n",
    "    sgd_reg.fit(X_train_poly_scaled, y_train)\n",
    "    y_val_predict = sgd_reg.predict(X_val_poly_scaled)\n",
    "    val_error = mean_squared_error(y_val, y_val_predict)\n",
    "    if val_error < minimum_val_error:\n",
    "        minimum_val_error = val_error\n",
    "        best_epoch = epoch\n",
    "        best_model = clone(sgd_reg)"
   ]
  },
  {
   "cell_type": "markdown",
   "metadata": {},
   "source": [
    "# 4.6. 로지스틱 회귀\n",
    "## 4.6.1. 결정 경계"
   ]
  },
  {
   "cell_type": "code",
   "execution_count": 25,
   "metadata": {},
   "outputs": [
    {
     "data": {
      "text/plain": [
       "['data',\n",
       " 'target',\n",
       " 'frame',\n",
       " 'target_names',\n",
       " 'DESCR',\n",
       " 'feature_names',\n",
       " 'filename']"
      ]
     },
     "execution_count": 25,
     "metadata": {},
     "output_type": "execute_result"
    }
   ],
   "source": [
    "from sklearn import datasets\n",
    "\n",
    "iris = datasets.load_iris()\n",
    "list(iris.keys())"
   ]
  },
  {
   "cell_type": "code",
   "execution_count": 26,
   "metadata": {
    "scrolled": true
   },
   "outputs": [],
   "source": [
    "X = iris[\"data\"][:, 3 :]\n",
    "y = (iris[\"target\"] == 2).astype(np.int)"
   ]
  },
  {
   "cell_type": "code",
   "execution_count": 27,
   "metadata": {},
   "outputs": [
    {
     "data": {
      "image/png": "[encoded data removed]",
      "text/plain": [
       "<Figure size 432x288 with 1 Axes>"
      ]
     },
     "metadata": {
      "needs_background": "light"
     },
     "output_type": "display_data"
    }
   ],
   "source": [
    "from sklearn.linear_model import LogisticRegression\n",
    "\n",
    "log_reg = LogisticRegression()\n",
    "log_reg.fit(X, y)\n",
    "\n",
    "X_new = np.linspace(0, 3, 1000).reshape(-1, 1)\n",
    "y_proba = log_reg.predict_proba(X_new)\n",
    "\n",
    "plt.plot(X_new, y_proba[:, 1], \"g-\", label = \"Iris virginica\")\n",
    "plt.plot(X_new, y_proba[:, 0], \"b--\", label = \"Not Iris virginica\")\n",
    "\n",
    "plt.show()"
   ]
  },
  {
   "cell_type": "code",
   "execution_count": 28,
   "metadata": {},
   "outputs": [
    {
     "data": {
      "text/plain": [
       "array([1, 0])"
      ]
     },
     "execution_count": 28,
     "metadata": {},
     "output_type": "execute_result"
    }
   ],
   "source": [
    "log_reg.predict([[1.7], [1.5]])"
   ]
  },
  {
   "cell_type": "markdown",
   "metadata": {},
   "source": [
    "## 4.6.4. 소프트맥스 회귀"
   ]
  },
  {
   "cell_type": "code",
   "execution_count": 29,
   "metadata": {},
   "outputs": [
    {
     "data": {
      "text/plain": [
       "LogisticRegression(C=10, multi_class='multinomial')"
      ]
     },
     "execution_count": 29,
     "metadata": {},
     "output_type": "execute_result"
    }
   ],
   "source": [
    "X = iris[\"data\"][:, (2, 3)]\n",
    "y = iris[\"target\"]\n",
    "\n",
    "softmax_reg = LogisticRegression(multi_class = \"multinomial\", solver = \"lbfgs\", C = 10)\n",
    "softmax_reg.fit(X, y)"
   ]
  },
  {
   "cell_type": "code",
   "execution_count": 30,
   "metadata": {},
   "outputs": [
    {
     "data": {
      "text/plain": [
       "array([2])"
      ]
     },
     "execution_count": 30,
     "metadata": {},
     "output_type": "execute_result"
    }
   ],
   "source": [
    "softmax_reg.predict([[5, 2]])"
   ]
  },
  {
   "cell_type": "code",
   "execution_count": 31,
   "metadata": {},
   "outputs": [
    {
     "data": {
      "text/plain": [
       "array([[6.38014896e-07, 5.74929995e-02, 9.42506362e-01]])"
      ]
     },
     "execution_count": 31,
     "metadata": {},
     "output_type": "execute_result"
    }
   ],
   "source": [
    "softmax_reg.predict_proba([[5, 2]])"
   ]
  },
  {
   "cell_type": "code",
   "execution_count": 32,
   "metadata": {},
   "outputs": [
    {
     "data": {
      "text/plain": [
       "array(['setosa', 'versicolor', 'virginica'], dtype='<U10')"
      ]
     },
     "execution_count": 32,
     "metadata": {},
     "output_type": "execute_result"
    }
   ],
   "source": [
    "iris[\"target_names\"]"
   ]
  },
  {
   "cell_type": "code",
   "execution_count": null,
   "metadata": {},
   "outputs": [],
   "source": []
  }
 ],
 "metadata": {
  "kernelspec": {
   "display_name": "Python 3",
   "language": "python",
   "name": "python3"
  },
  "language_info": {
   "codemirror_mode": {
    "name": "ipython",
    "version": 3
   },
   "file_extension": ".py",
   "mimetype": "text/x-python",
   "name": "python",
   "nbconvert_exporter": "python",
   "pygments_lexer": "ipython3",
   "version": "3.8.5"
  }
 },
 "nbformat": 4,
 "nbformat_minor": 4
}
