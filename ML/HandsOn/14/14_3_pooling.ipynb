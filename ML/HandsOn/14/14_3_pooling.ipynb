{
 "metadata": {
  "language_info": {
   "codemirror_mode": {
    "name": "ipython",
    "version": 3
   },
   "file_extension": ".py",
   "mimetype": "text/x-python",
   "name": "python",
   "nbconvert_exporter": "python",
   "pygments_lexer": "ipython3",
   "version": "3.8.8-final"
  },
  "orig_nbformat": 2,
  "kernelspec": {
   "name": "python388jvsc74a57bd0888747915a6fa02208d3d726af7412a51f7d682d8658c5c9b27496b4f9df761d",
   "display_name": "Python 3.8.8 64-bit ('venv': conda)"
  }
 },
 "nbformat": 4,
 "nbformat_minor": 2,
 "cells": [
  {
   "cell_type": "code",
   "execution_count": 10,
   "metadata": {},
   "outputs": [],
   "source": [
    "from sklearn.datasets import load_sample_image\n",
    "import numpy as np \n",
    "\n",
    "\n",
    "china = load_sample_image(\"china.jpg\")/255\n",
    "flower = load_sample_image(\"flower.jpg\")/255\n",
    "images = np.array([china,flower])"
   ]
  },
  {
   "source": [
    "# 14.3 풀링층\n",
    "\n",
    "- 계산과 메모리 사용량, 파라미터 수를 줄이기 위해 입력 이미지의 부표본(축소본)을 만드는 것\n",
    "- 합성곱 층처럼 크기, 스트라이드, 패딩 유형을 지정해야 하나 가중치는 없음\n",
    "\n",
    "\n",
    "EX) 최대 풀링 층\n",
    "\n",
    "- 2X2 풀링 커널/스트라이드 2/패딩은 없음\n",
    "- 각 수용장에서 큰 입력값이 다음층으로 전달 (다른 값은 버려짐, 예에서 5만 전달)\n",
    "\n",
    "\n",
    "#### 불변성 \n",
    "\n",
    "- 최대 풀링은 작은 변화에도 일정 수준의 불변성(invariance)을 만들어줌\n",
    "\n",
    "ex) A,B,C 이미지가 2X2 커널 / 스트라이드 2인 최대풀링 층을 통과했을 때\n",
    "- 동일한 A,B,C 이미지인데, 한 픽셀씩 옆으로 이동한 그림\n",
    "- A와 B의 최대 풀링 층은 동일함, C 출력은 한 픽셀 옆으로 이동하긴 했지만 여전히 50%는 변하지 않음\n",
    "- CNN에서 몇 개 층마다 최대 풀링층을 추가하면 일정 수준의 이동 불변성을 얻을 수 있음\n",
    "- 최대 풀링은 회전과 확대, 축소에 대해 약간의 불변성을 제공\n",
    "\n",
    "\n",
    "\n",
    "### 풀링층 단점\n",
    "- 입력값의 일부를 잃게됨\n",
    "- 2X2 커널과 스프라이드 2를 사용하더라도 출력은 양방향으로 절반이 줄어들어 입력값의 75%를 잃게됨\n",
    "\n",
    "\n",
    "### 등변성\n",
    "- 등변성이 목표가 되는 경우도 있음 ex)시멘틱 분할 - 픽셀이 속한 객체에 따라 픽셀을 구분하는 작업\n"
   ],
   "cell_type": "markdown",
   "metadata": {}
  },
  {
   "source": [
    "# 14.3.1 텐서플로 구현\n",
    "\n",
    "- 맥스풀링 MaxPool2D\n",
    "- 평균 풀링 AvgPool2D (최댓값이 아닌 평균을 계산)\n",
    "    - 일반적으로 맥스풀링이 평균풀링보다 성능이 좋고, 정보손실도 적고, 강력한 이동 불변성을 제공하고, 연산 비용이 조금 덜 듦"
   ],
   "cell_type": "markdown",
   "metadata": {}
  },
  {
   "cell_type": "code",
   "execution_count": 5,
   "metadata": {},
   "outputs": [],
   "source": [
    "import tensorflow as tf"
   ]
  },
  {
   "cell_type": "code",
   "execution_count": 3,
   "metadata": {},
   "outputs": [],
   "source": [
    "# 2X2 커널을 사용해/ 최대 풀링 층을 만듦/기본적으로 \"valid\" 패딩 사용\r\n",
    "\r\n",
    "max_pool = tf.keras.layers.MaxPool2D(pool_size=2)"
   ]
  },
  {
   "source": [
    "### 맥스/평균 풀링은 공간 차원이 아닌 깊이 차원으로 수행될 수 있음\n",
    "\n",
    "- 패턴이 회전된 여러 필터를 학습할 때, 회전에 상관없이 동일한 출력을 만듦 (불변성 학습 가능)\n",
    "- 케라스가 깊이방향 풀링층을 제공하지 않아 텐서플로 저수진 딥러닝 API 사용"
   ],
   "cell_type": "markdown",
   "metadata": {}
  },
  {
   "cell_type": "code",
   "execution_count": 12,
   "metadata": {},
   "outputs": [],
   "source": [
    "output = tf.nn.max_pool(images,\n",
    "                        ksize = (1,1,1,3), #커널크기/스프라이드를 4개 원소를 가진 튜플로 지정\n",
    "                        strides = (1,1,1,3),   # - 첫번째 3번째 값이 1이어야 함. \n",
    "                                              #(배치,높이,너비 차원을 따라 커널 크기와 스프라이드가 1이라는 뜻)\n",
    "                        padding = \"VALID\")"
   ]
  },
  {
   "cell_type": "code",
   "execution_count": 14,
   "metadata": {},
   "outputs": [],
   "source": [
    "# 케라스 모델 층으로 사용하고 싶으면 lambda 층으로 감사면 됨 \n",
    "\n",
    "depth_pool = tf.keras.layers.Lambda(\n",
    "    lambda X: tf.nn.max_pool(X, ksize=(1,1,1,3), strides=(1,1,1,3), padding=\"VALID\")\n",
    ")"
   ]
  },
  {
   "source": [
    "### 전역 평균 풀링층\n",
    "\n",
    "- 각 특성맵의 평균을 계산 \n",
    "- 각 샘플의 특성맵 마다 하나의 출력을 계산 (특성 맵의 대부분 정보를 잃지만 출력층엔 유용할 수 있음)\n",
    "- keras.layers.GlobalAvgPool2D 클래스 사용"
   ],
   "cell_type": "markdown",
   "metadata": {}
  },
  {
   "cell_type": "code",
   "execution_count": 17,
   "metadata": {},
   "outputs": [],
   "source": [
    "global_avg_pool = tf.keras.layers.GlobalAvgPool2D()"
   ]
  },
  {
   "cell_type": "code",
   "execution_count": 18,
   "metadata": {},
   "outputs": [],
   "source": [
    " #높이와 너비를 따라 평균 계산하는 Lambda 층과 동등\n",
    " global_avg_pool = tf.keras.layers.Lambda(lambda X:tf.reduce.mean(X, axis=[1,2]))"
   ]
  },
  {
   "cell_type": "code",
   "execution_count": null,
   "metadata": {},
   "outputs": [],
   "source": []
  }
 ]
}