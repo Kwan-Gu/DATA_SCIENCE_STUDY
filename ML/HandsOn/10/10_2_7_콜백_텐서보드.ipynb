{
 "metadata": {
  "language_info": {
   "codemirror_mode": {
    "name": "ipython",
    "version": 3
   },
   "file_extension": ".py",
   "mimetype": "text/x-python",
   "name": "python",
   "nbconvert_exporter": "python",
   "pygments_lexer": "ipython3",
   "version": "3.8.7-final"
  },
  "orig_nbformat": 2,
  "kernelspec": {
   "name": "python3",
   "display_name": "Python 3.8.7 64-bit",
   "metadata": {
    "interpreter": {
     "hash": "77ce815a0754f4627093f19bb851f9c1582d5575dae88618c8a1250e97309331"
    }
   }
  }
 },
 "nbformat": 4,
 "nbformat_minor": 2,
 "cells": [
  {
   "cell_type": "code",
   "execution_count": 18,
   "metadata": {},
   "outputs": [],
   "source": [
    "# 필요한 라이브러리\n",
    "from tensorflow import keras\n",
    "from sklearn.preprocessing import StandardScaler\n",
    "from sklearn.model_selection import train_test_split\n",
    "from sklearn.datasets import fetch_california_housing"
   ]
  },
  {
   "cell_type": "code",
   "execution_count": 11,
   "metadata": {},
   "outputs": [
    {
     "output_type": "execute_result",
     "data": {
      "text/plain": [
       "(20640, 8)"
      ]
     },
     "metadata": {},
     "execution_count": 11
    }
   ],
   "source": [
    "# 캘리포니아 주택 가격 데이터: 20640 샘플, 8 특성\n",
    "housing = fetch_california_housing()\n",
    "housing.data.shape"
   ]
  },
  {
   "cell_type": "code",
   "execution_count": 12,
   "metadata": {},
   "outputs": [
    {
     "output_type": "execute_result",
     "data": {
      "text/plain": [
       "['MedInc',\n",
       " 'HouseAge',\n",
       " 'AveRooms',\n",
       " 'AveBedrms',\n",
       " 'Population',\n",
       " 'AveOccup',\n",
       " 'Latitude',\n",
       " 'Longitude']"
      ]
     },
     "metadata": {},
     "execution_count": 12
    }
   ],
   "source": [
    "# 특성 확인\n",
    "housing.feature_names"
   ]
  },
  {
   "cell_type": "code",
   "execution_count": 13,
   "metadata": {},
   "outputs": [
    {
     "output_type": "execute_result",
     "data": {
      "text/plain": [
       "((11610, 8), (3870, 8), (5160, 8))"
      ]
     },
     "metadata": {},
     "execution_count": 13
    }
   ],
   "source": [
    "# 훈련, 검증, 테스트 분리\n",
    "X_train_full, X_test, y_train_full, y_test = train_test_split(housing.data, housing.target)\n",
    "X_train, X_valid, y_train, y_valid = train_test_split(X_train_full, y_train_full)\n",
    "\n",
    "scaler  = StandardScaler()\n",
    "X_train = scaler.fit_transform(X_train)\n",
    "X_valid = scaler.transform(X_valid)\n",
    "X_test  = scaler.transform(X_test)\n",
    "\n",
    "X_train.shape, X_valid.shape, X_test.shape"
   ]
  },
  {
   "cell_type": "code",
   "execution_count": 14,
   "metadata": {},
   "outputs": [
    {
     "output_type": "stream",
     "name": "stdout",
     "text": [
      "Model: \"model_1\"\n__________________________________________________________________________________________________\nLayer (type)                    Output Shape         Param #     Connected to                     \n==================================================================================================\ndeep_input (InputLayer)         [(None, 6)]          0                                            \n__________________________________________________________________________________________________\ndense_2 (Dense)                 (None, 30)           210         deep_input[0][0]                 \n__________________________________________________________________________________________________\nwide_input (InputLayer)         [(None, 5)]          0                                            \n__________________________________________________________________________________________________\ndense_3 (Dense)                 (None, 30)           930         dense_2[0][0]                    \n__________________________________________________________________________________________________\nconcatenate_1 (Concatenate)     (None, 35)           0           wide_input[0][0]                 \n                                                                 dense_3[0][0]                    \n__________________________________________________________________________________________________\noutput (Dense)                  (None, 1)            36          concatenate_1[0][0]              \n==================================================================================================\nTotal params: 1,176\nTrainable params: 1,176\nNon-trainable params: 0\n__________________________________________________________________________________________________\n"
     ]
    }
   ],
   "source": [
    "# 심층신경망 구축\n",
    "input_A = keras.layers.Input(shape = [5], name = \"wide_input\")\n",
    "input_B = keras.layers.Input(shape = [6], name = \"deep_input\")\n",
    "hidden1 = keras.layers.Dense(30, activation = \"relu\")(input_B)\n",
    "hidden2 = keras.layers.Dense(30, activation = \"relu\")(hidden1)\n",
    "concat  = keras.layers.concatenate([input_A, hidden2])\n",
    "output  = keras.layers.Dense(1, name = \"output\")(concat)\n",
    "model   = keras.Model(inputs = [input_A, input_B], outputs = [output])\n",
    "model.summary()"
   ]
  },
  {
   "cell_type": "code",
   "execution_count": 15,
   "metadata": {},
   "outputs": [
    {
     "output_type": "execute_result",
     "data": {
      "text/plain": [
       "((11610, 5), (11610, 6))"
      ]
     },
     "metadata": {},
     "execution_count": 15
    }
   ],
   "source": [
    "# 모델 컴파일 및 입력 데이터 생성\n",
    "model.compile(loss = \"mse\", optimizer = keras.optimizers.SGD(lr = 1e-3))\n",
    "\n",
    "X_train_A, X_train_B = X_train[:, : 5], X_train[:, -6 :]\n",
    "X_valid_A, X_valid_B = X_valid[:, : 5], X_valid[:, -6 :]\n",
    "X_test_A , X_test_B  = X_test[:, : 5] , X_test[:, -6 :]\n",
    "X_train_A.shape, X_train_B.shape"
   ]
  },
  {
   "cell_type": "code",
   "execution_count": 16,
   "metadata": {},
   "outputs": [],
   "source": [
    "# 텐서보드에 필요한 로그폴더 생성\n",
    "def get_run_logdir():\n",
    "    import os\n",
    "    import time\n",
    "    root_logdir = os.path.join(os.curdir, \"my_logs\")\n",
    "    run_id = time.strftime(\"run_%Y_%m_%d_%H_%M_%S\")\n",
    "    return os.path.join(root_logdir, run_id)"
   ]
  },
  {
   "cell_type": "code",
   "execution_count": 17,
   "metadata": {},
   "outputs": [
    {
     "output_type": "stream",
     "name": "stdout",
     "text": [
      "Epoch 1/100\n",
      "363/363 [==============================] - 1s 3ms/step - loss: 4.1076 - val_loss: 1.0410\n",
      "Epoch 2/100\n",
      "363/363 [==============================] - 0s 1ms/step - loss: 0.9768 - val_loss: 0.7043\n",
      "Epoch 3/100\n",
      "363/363 [==============================] - 0s 1ms/step - loss: 0.7168 - val_loss: 0.5980\n",
      "Epoch 4/100\n",
      "363/363 [==============================] - 0s 999us/step - loss: 0.6284 - val_loss: 0.5470\n",
      "Epoch 5/100\n",
      "363/363 [==============================] - 0s 980us/step - loss: 0.5754 - val_loss: 0.5156\n",
      "Epoch 6/100\n",
      "363/363 [==============================] - 0s 999us/step - loss: 0.5514 - val_loss: 0.4950\n",
      "Epoch 7/100\n",
      "363/363 [==============================] - 0s 997us/step - loss: 0.5308 - val_loss: 0.4812\n",
      "Epoch 8/100\n",
      "363/363 [==============================] - 0s 1ms/step - loss: 0.5104 - val_loss: 0.4719\n",
      "Epoch 9/100\n",
      "363/363 [==============================] - 1s 1ms/step - loss: 0.4840 - val_loss: 0.4630\n",
      "Epoch 10/100\n",
      "363/363 [==============================] - 0s 980us/step - loss: 0.5119 - val_loss: 0.4630\n",
      "Epoch 11/100\n",
      "363/363 [==============================] - 0s 1ms/step - loss: 0.4831 - val_loss: 0.4519\n",
      "Epoch 12/100\n",
      "363/363 [==============================] - 0s 1ms/step - loss: 0.4764 - val_loss: 0.4519\n",
      "Epoch 13/100\n",
      "363/363 [==============================] - 0s 1ms/step - loss: 0.4922 - val_loss: 0.4451\n",
      "Epoch 14/100\n",
      "363/363 [==============================] - 0s 1ms/step - loss: 0.4744 - val_loss: 0.4456\n",
      "Epoch 15/100\n",
      "363/363 [==============================] - 0s 1ms/step - loss: 0.4826 - val_loss: 0.4461\n",
      "Epoch 16/100\n",
      "363/363 [==============================] - 0s 1ms/step - loss: 0.4702 - val_loss: 0.4363\n",
      "Epoch 17/100\n",
      "363/363 [==============================] - 0s 1000us/step - loss: 0.4784 - val_loss: 0.4356\n",
      "Epoch 18/100\n",
      "363/363 [==============================] - 0s 1ms/step - loss: 0.4640 - val_loss: 0.4351\n",
      "Epoch 19/100\n",
      "363/363 [==============================] - 0s 1ms/step - loss: 0.4716 - val_loss: 0.4323\n",
      "Epoch 20/100\n",
      "363/363 [==============================] - 0s 981us/step - loss: 0.4651 - val_loss: 0.4297\n",
      "Epoch 21/100\n",
      "363/363 [==============================] - 0s 979us/step - loss: 0.4744 - val_loss: 0.4286\n",
      "Epoch 22/100\n",
      "363/363 [==============================] - 0s 1ms/step - loss: 0.4551 - val_loss: 0.4264\n",
      "Epoch 23/100\n",
      "363/363 [==============================] - 0s 1ms/step - loss: 0.4726 - val_loss: 0.4244\n",
      "Epoch 24/100\n",
      "363/363 [==============================] - 0s 1ms/step - loss: 0.4591 - val_loss: 0.4237\n",
      "Epoch 25/100\n",
      "363/363 [==============================] - 0s 1ms/step - loss: 0.4444 - val_loss: 0.4219\n",
      "Epoch 26/100\n",
      "363/363 [==============================] - 0s 1ms/step - loss: 0.4361 - val_loss: 0.4213\n",
      "Epoch 27/100\n",
      "363/363 [==============================] - 0s 1ms/step - loss: 0.4609 - val_loss: 0.4195\n",
      "Epoch 28/100\n",
      "363/363 [==============================] - 0s 1ms/step - loss: 0.4567 - val_loss: 0.4182\n",
      "Epoch 29/100\n",
      "363/363 [==============================] - 0s 1ms/step - loss: 0.4568 - val_loss: 0.4163\n",
      "Epoch 30/100\n",
      "363/363 [==============================] - 0s 1ms/step - loss: 0.4370 - val_loss: 0.4143\n",
      "Epoch 31/100\n",
      "363/363 [==============================] - 0s 1ms/step - loss: 0.4515 - val_loss: 0.4133\n",
      "Epoch 32/100\n",
      "363/363 [==============================] - 0s 1ms/step - loss: 0.4424 - val_loss: 0.4121\n",
      "Epoch 33/100\n",
      "363/363 [==============================] - 0s 1ms/step - loss: 0.4344 - val_loss: 0.4109\n",
      "Epoch 34/100\n",
      "363/363 [==============================] - 0s 947us/step - loss: 0.4320 - val_loss: 0.4105\n",
      "Epoch 35/100\n",
      "363/363 [==============================] - 0s 1ms/step - loss: 0.4407 - val_loss: 0.4121\n",
      "Epoch 36/100\n",
      "363/363 [==============================] - 0s 1ms/step - loss: 0.4477 - val_loss: 0.4088\n",
      "Epoch 37/100\n",
      "363/363 [==============================] - 0s 985us/step - loss: 0.4480 - val_loss: 0.4096\n",
      "Epoch 38/100\n",
      "363/363 [==============================] - 0s 1ms/step - loss: 0.4392 - val_loss: 0.4062\n",
      "Epoch 39/100\n",
      "363/363 [==============================] - 0s 1ms/step - loss: 0.4541 - val_loss: 0.4052\n",
      "Epoch 40/100\n",
      "363/363 [==============================] - 0s 1ms/step - loss: 0.4273 - val_loss: 0.4045\n",
      "Epoch 41/100\n",
      "363/363 [==============================] - 0s 1ms/step - loss: 0.4242 - val_loss: 0.4038\n",
      "Epoch 42/100\n",
      "363/363 [==============================] - 0s 1ms/step - loss: 0.4225 - val_loss: 0.4032\n",
      "Epoch 43/100\n",
      "363/363 [==============================] - 0s 992us/step - loss: 0.4521 - val_loss: 0.4011\n",
      "Epoch 44/100\n",
      "363/363 [==============================] - 0s 1ms/step - loss: 0.4092 - val_loss: 0.4006\n",
      "Epoch 45/100\n",
      "363/363 [==============================] - 0s 1ms/step - loss: 0.4079 - val_loss: 0.3985\n",
      "Epoch 46/100\n",
      "363/363 [==============================] - 0s 1ms/step - loss: 0.4293 - val_loss: 0.3991\n",
      "Epoch 47/100\n",
      "363/363 [==============================] - 0s 1ms/step - loss: 0.4207 - val_loss: 0.3966\n",
      "Epoch 48/100\n",
      "363/363 [==============================] - 0s 1ms/step - loss: 0.4064 - val_loss: 0.3972\n",
      "Epoch 49/100\n",
      "363/363 [==============================] - 0s 998us/step - loss: 0.4098 - val_loss: 0.3959\n",
      "Epoch 50/100\n",
      "363/363 [==============================] - 0s 986us/step - loss: 0.4234 - val_loss: 0.3955\n",
      "Epoch 51/100\n",
      "363/363 [==============================] - 0s 993us/step - loss: 0.4270 - val_loss: 0.3929\n",
      "Epoch 52/100\n",
      "363/363 [==============================] - 0s 1ms/step - loss: 0.4253 - val_loss: 0.3949\n",
      "Epoch 53/100\n",
      "363/363 [==============================] - 0s 1ms/step - loss: 0.4105 - val_loss: 0.3913\n",
      "Epoch 54/100\n",
      "363/363 [==============================] - 0s 1ms/step - loss: 0.4508 - val_loss: 0.3916\n",
      "Epoch 55/100\n",
      "363/363 [==============================] - 0s 997us/step - loss: 0.4095 - val_loss: 0.3919\n",
      "Epoch 56/100\n",
      "363/363 [==============================] - 0s 1ms/step - loss: 0.4199 - val_loss: 0.3894\n",
      "Epoch 57/100\n",
      "363/363 [==============================] - 0s 1ms/step - loss: 0.4203 - val_loss: 0.3899\n",
      "Epoch 58/100\n",
      "363/363 [==============================] - 0s 1ms/step - loss: 0.4340 - val_loss: 0.3880\n",
      "Epoch 59/100\n",
      "363/363 [==============================] - 0s 1ms/step - loss: 0.4194 - val_loss: 0.3929\n",
      "Epoch 60/100\n",
      "363/363 [==============================] - 0s 1ms/step - loss: 0.4196 - val_loss: 0.3881\n",
      "Epoch 61/100\n",
      "363/363 [==============================] - 0s 1ms/step - loss: 0.4255 - val_loss: 0.3860\n",
      "Epoch 62/100\n",
      "363/363 [==============================] - 0s 1ms/step - loss: 0.4024 - val_loss: 0.3862\n",
      "Epoch 63/100\n",
      "363/363 [==============================] - 0s 1ms/step - loss: 0.4176 - val_loss: 0.3852\n",
      "Epoch 64/100\n",
      "363/363 [==============================] - 0s 988us/step - loss: 0.4183 - val_loss: 0.3824\n",
      "Epoch 65/100\n",
      "363/363 [==============================] - 0s 1ms/step - loss: 0.3940 - val_loss: 0.3817\n",
      "Epoch 66/100\n",
      "363/363 [==============================] - 0s 1ms/step - loss: 0.4068 - val_loss: 0.3795\n",
      "Epoch 67/100\n",
      "363/363 [==============================] - 0s 1ms/step - loss: 0.4019 - val_loss: 0.3821\n",
      "Epoch 68/100\n",
      "363/363 [==============================] - 0s 1ms/step - loss: 0.3919 - val_loss: 0.3777\n",
      "Epoch 69/100\n",
      "363/363 [==============================] - 0s 1ms/step - loss: 0.3952 - val_loss: 0.3835\n",
      "Epoch 70/100\n",
      "363/363 [==============================] - 0s 1ms/step - loss: 0.4055 - val_loss: 0.3763\n",
      "Epoch 71/100\n",
      "363/363 [==============================] - 0s 1ms/step - loss: 0.3961 - val_loss: 0.3752\n",
      "Epoch 72/100\n",
      "363/363 [==============================] - 0s 1ms/step - loss: 0.3893 - val_loss: 0.3747\n",
      "Epoch 73/100\n",
      "363/363 [==============================] - 0s 1ms/step - loss: 0.4085 - val_loss: 0.3734\n",
      "Epoch 74/100\n",
      "363/363 [==============================] - 0s 997us/step - loss: 0.3938 - val_loss: 0.3761\n",
      "Epoch 75/100\n",
      "363/363 [==============================] - 0s 997us/step - loss: 0.4090 - val_loss: 0.3714\n",
      "Epoch 76/100\n",
      "363/363 [==============================] - 0s 1ms/step - loss: 0.3814 - val_loss: 0.3726\n",
      "Epoch 77/100\n",
      "363/363 [==============================] - 0s 1ms/step - loss: 0.4022 - val_loss: 0.3713\n",
      "Epoch 78/100\n",
      "363/363 [==============================] - 0s 1ms/step - loss: 0.3877 - val_loss: 0.3719\n",
      "Epoch 79/100\n",
      "363/363 [==============================] - 0s 1ms/step - loss: 0.4056 - val_loss: 0.3687\n",
      "Epoch 80/100\n",
      "363/363 [==============================] - 0s 1ms/step - loss: 0.3872 - val_loss: 0.3706\n",
      "Epoch 81/100\n",
      "363/363 [==============================] - 0s 1ms/step - loss: 0.3928 - val_loss: 0.3682\n",
      "Epoch 82/100\n",
      "363/363 [==============================] - 0s 1ms/step - loss: 0.3876 - val_loss: 0.3671\n",
      "Epoch 83/100\n",
      "363/363 [==============================] - 0s 1ms/step - loss: 0.3910 - val_loss: 0.3676\n",
      "Epoch 84/100\n",
      "363/363 [==============================] - 0s 1ms/step - loss: 0.3867 - val_loss: 0.3695\n",
      "Epoch 85/100\n",
      "363/363 [==============================] - 0s 1ms/step - loss: 0.3854 - val_loss: 0.3652\n",
      "Epoch 86/100\n",
      "363/363 [==============================] - 0s 1ms/step - loss: 0.3875 - val_loss: 0.3701\n",
      "Epoch 87/100\n",
      "363/363 [==============================] - 0s 1ms/step - loss: 0.3700 - val_loss: 0.3676\n",
      "Epoch 88/100\n",
      "363/363 [==============================] - 0s 1ms/step - loss: 0.4043 - val_loss: 0.3741\n",
      "Epoch 89/100\n",
      "363/363 [==============================] - 0s 1ms/step - loss: 0.3737 - val_loss: 0.3677\n",
      "Epoch 90/100\n",
      "363/363 [==============================] - 0s 999us/step - loss: 0.3931 - val_loss: 0.3703\n",
      "Epoch 91/100\n",
      "363/363 [==============================] - 0s 1ms/step - loss: 0.4150 - val_loss: 0.3679\n",
      "Epoch 92/100\n",
      "363/363 [==============================] - 0s 1ms/step - loss: 0.3933 - val_loss: 0.3692\n",
      "Epoch 93/100\n",
      "363/363 [==============================] - 0s 1ms/step - loss: 0.3854 - val_loss: 0.3702\n",
      "Epoch 94/100\n",
      "363/363 [==============================] - 0s 1ms/step - loss: 0.3834 - val_loss: 0.3687\n",
      "Epoch 95/100\n",
      "363/363 [==============================] - 0s 1ms/step - loss: 0.3795 - val_loss: 0.3667\n",
      "162/162 [==============================] - 0s 625us/step - loss: 0.3824\n"
     ]
    }
   ],
   "source": [
    "# 콜백 생성 및 모델 훈련, 검증\n",
    "checkpoint_cb     = keras.callbacks.ModelCheckpoint(\"./checkpoint/my_keras_model.h5\", save_best_only = True)\n",
    "early_stopping_cb = keras.callbacks.EarlyStopping(patience = 10, restore_best_weights = True)\n",
    "tensorboard_cb    = keras.callbacks.TensorBoard(get_run_logdir())\n",
    "\n",
    "history  = model.fit((X_train_A, X_train_B), y_train, validation_data = ((X_valid_A, X_valid_B), y_valid),\\\n",
    "                     epochs = 100, verbose = 1, callbacks = [checkpoint_cb, early_stopping_cb, tensorboard_cb])\n",
    "\n",
    "mse_test = model.evaluate((X_test_A, X_test_B), y_test)"
   ]
  },
  {
   "cell_type": "code",
   "execution_count": null,
   "metadata": {},
   "outputs": [],
   "source": [
    "# 텐서보드: tensorboard --logdir=./my_logs --port=6006"
   ]
  }
 ]
}