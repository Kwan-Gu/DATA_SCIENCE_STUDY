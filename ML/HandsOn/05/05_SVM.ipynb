{
 "cells": [
  {
   "cell_type": "markdown",
   "metadata": {},
   "source": [
    "## [ch5. SVM (서포트 벡터 머신)](https://hoony-gunputer.tistory.com/entry/%ED%95%B8%EC%A6%88%EC%98%A8-%EB%A8%B8%EC%8B%A0%EB%9F%AC%EB%8B%9D-5%EA%B0%95-SVM)\n",
    "   - 머신러닝에서 가장 인기있는 모델  \n",
    "   - **다목적 머신러닝 모델** (회귀, 분류, 이상치 탐색 등,,)  \n",
    "   - **복잡한 분류 문제** / **작거나, 중간 사이즈의 데이터 셋**에 적합한 모델"
   ]
  },
  {
   "cell_type": "markdown",
   "metadata": {},
   "source": [
    "### 5.1 선형 SVM 분류  \n",
    "   - 선형분류기가 갖는 단점(결졍경계가 샘플에 너무 가까워서, **새로운 샘플에 대해 분류 정확도가 떨어지는 문제**)을 보완 할 수 있음.  \n",
    "   ![선형SVM](https://miro.medium.com/max/875/1*uG0odDCi-r45Nl1Pkz5rRA.png)"
   ]
  },
  {
   "cell_type": "markdown",
   "metadata": {},
   "source": [
    "- **두개의 클래스를 나누고 있고 + 제일 가까운 훈련 샘플로부터 가능한 한 멀리떨어져 있음**(<- 단점 보완 가능  \n",
    "- 도로 밖에 샘플 추가 시 결정경계 영향 x , **서포트 벡터에 의해 도로의 폭이 결정**됨\n",
    "### ★ 선형 SVM 분류 = 라지 마진 분류 = 가장 폭이 넓은 도로를 찾는 것 ★ ### \n",
    "---"
   ]
  },
  {
   "cell_type": "markdown",
   "metadata": {},
   "source": [
    "\n",
    "-  ※주의) SVM은 **특성(feature)의 스케일에 민감**함. (feature값의 스케일이 잘 되어 있지 않으면, 결정경계가 제대로 만들어 지지 않음)  \n",
    "     --> **사이킷 런의 StandardScaler를 사용**하면 결정경계가 좋아짐  \n",
    "     ![스케일에 민감한 SVM](https://unsolvedproblem.github.io/assets/images/Hands-on/Ch5fig2.png)  \n",
    "     - 왼쪽) 수직 축의 스케일 값(20단위)이 크고, 수평 축은 스케일 값(1단위)이 작아서, 균형을 이루지 못해서 결정경계가 제대로 만들어 지지 않음  \n",
    "     - 오른쪽 ) 수직, 수평 축의 스케일값(1단위, 0.5단위)이 적절히 균형을 이루므로, 결정경계가 제대로 만들어 짐 ㅇㅇ\n",
    "\n",
    "---"
   ]
  },
  {
   "cell_type": "markdown",
   "metadata": {},
   "source": [
    "### 5.1.1 소프트 마진 분류 ###  \n",
    "cf) **마진, 음양의 경계선, 서포트 벡터** 의미 참고  \n",
    "![참고](https://lh3.googleusercontent.com/proxy/4_xAu6zRmo05HHKaUKkvEyE3sDl8xSsKwL1b1082O7QRXU-Je6Y3bwPonopIyx53q0FgNbOsTp3h_l3IthhOyBfOt3nBqtAIzlt_L31FvcMIwlTUK90JKZC6gtfjKFU1ACliG8S_M1CWa8N3Q6j2NY2xaQmlcsVk9NN4vmsSZ1AcG5YTvDhqdva4Fig1_WCj6IIJMIvORP0AA7rKhI-bvNg3bBCu1c6fohJLgq7bUMS8NmzXizAoKDyHg20NmnskHYlCg8xoiA0JvyuLDEE0Un98VoChKDF9G9igFvj4pjt0DJAZ-SgUFq9YZiUcZxujhmNs2dk)"
   ]
  },
  {
   "cell_type": "markdown",
   "metadata": {},
   "source": [
    "- 하드 마진 분류: 모든 샘플이 도로 바깥쪽에 올바르게 분류된 것     \n",
    "- 마진 오류: 샘플이 도로 중간이나, 심지어 반대쪽에 있는 경우 (샘플에 이상치가 있는 경우)  \n",
    "- **소프트 마진 분류** : 하드 마진 분류의 단점을 보완하는. 즉, **도로 폭을 최대한 넓게 유지** 하는것과, **마진 오류 사이에 적절한 균형**을 잡은 분류   \n",
    "(이상치 존재 <ㅡ> 도로의 폭 : 이상치 존재 시, 도로 폭은 좁아질 수 밖에 없음, but 이 둘의 균형을 잘 이루는 것에 초점!必!!)"
   ]
  },
  {
   "cell_type": "markdown",
   "metadata": {},
   "source": [
    "이상치로 인한 오버피팅 발생 시 사용하는 하이퍼 파라미터: C\n",
    "- C값이 작으면: 일반화 ↑ + 도로폭 ↑ ▶  일반화는 좋으나, 성능은 조금 떨어짐\n",
    "- C값이 크면, 일반화 ↓ + 도로폭 ↓ ▶ 성능은 좋으나, 일반화에 민감해짐    \n",
    "  \n",
    "Ex) SVM모델이 오버피팅(훈련 데이터셋에 너무 완벽히 훈련되어짐, 이상치에 매우 민감)이 되었다면, C값을 줄이는 방향으로 설정 해줌"
   ]
  },
  {
   "cell_type": "markdown",
   "metadata": {},
   "source": [
    "---"
   ]
  },
  {
   "cell_type": "markdown",
   "metadata": {},
   "source": [
    "### 5.2 비선형 SVM분류  \n",
    "- 비선형 데이터 셋을 다루는 SVM분류 방법  \n",
    "![비선형 SVM분류](https://miro.medium.com/max/875/0*qKa9CSgwOinG31uI)  \n",
    "- 왼쪽그림에서 선형으로 분류 X → **feature X2를 추가해 주었더니** → 선형으로 분류 가능"
   ]
  },
  {
   "cell_type": "markdown",
   "metadata": {},
   "source": [
    "### 5.2.1  다항식 커널"
   ]
  },
  {
   "cell_type": "markdown",
   "metadata": {},
   "source": [
    "- 다항식 특성 추가의 장단점  \n",
    "    1. **낮은 차수**의 다항식 : 매우 복잡한 데이터셋 표현이 어려움  \n",
    "    2. **높은 차수**의 다항식: 굉장히 많은 특성을 추가하므로 모델을 느리게 만듦    \n",
    "    참고) [다항회귀 관련 설명](https://analysis-flood.tistory.com/86)  \n",
    "        \n",
    "        \n",
    "- **커널트릭**: 실제로는 특성을 추가하지 않으면서, 다항식 특성을 많이 추가한 것 같은 결과를 얻을 수 있음.  \n",
    "   따라서, 실제로 특성이 만들어 지지도 않으므로, 모델이 느려지는 것을 방지 할 수 있음!  \n",
    "    ▶ SVC 파이썬 클래스에 구현되어 있음\n"
   ]
  },
  {
   "cell_type": "code",
   "execution_count": 13,
   "metadata": {},
   "outputs": [
    {
     "data": {
      "text/plain": [
       "Pipeline(memory=None,\n",
       "     steps=[('scaler', StandardScaler(copy=True, with_mean=True, with_std=True)), ('svm_clf', SVC(C=5, cache_size=200, class_weight=None, coef0=1,\n",
       "  decision_function_shape='ovr', degree=3, gamma='auto', kernel='poly',\n",
       "  max_iter=-1, probability=False, random_state=None, shrinking=True,\n",
       "  tol=0.001, verbose=False))])"
      ]
     },
     "execution_count": 13,
     "metadata": {},
     "output_type": "execute_result"
    }
   ],
   "source": [
    "from sklearn.datasets import make_moons\n",
    "from sklearn.pipeline import Pipeline\n",
    "from sklearn.preprocessing import StandardScaler\n",
    "from sklearn.svm import SVC # 커널트릭을 구현할 수 있는 클래스\n",
    "\n",
    "X, y = make_moons(n_samples = 100, noise = 0.15)\n",
    "poly_kernel_svm_clf = Pipeline([(\"scaler\", StandardScaler()),\n",
    "                               (\"svm_clf\", SVC(kernel = \"poly\", degree = 3, coef0 = 1, C =5))])\n",
    "\n",
    "poly_kernel_svm_clf.fit(X,y)"
   ]
  },
  {
   "cell_type": "markdown",
   "metadata": {},
   "source": [
    "![커널트릭SVM](https://miro.medium.com/max/875/0*yRat20u6Pi5bcNzf)\n",
    "** 커널 SVM 파라미터 설명**  \n",
    "- d: 다항식 특성 추가시, 지정할 차수   \n",
    "- coef0 (r): 지정한 차수(d) 에 얼마나 영향을 받을 것인지. 다항식 커널은 차수가 높아질수록 1미만의 값, 1초과의 값 사이의 차이가 크게 나므로, coef0값을 적절히 조절하면 고차항의 영향을 줄일 수 있음\n",
    "- C: C가 크면 decision boundary는 더 굴곡지고, C가 작으면 decision boundary는 직선에 가깝습니다. (이상치 관련한 파라미터 라고 보면됨)"
   ]
  },
  {
   "cell_type": "markdown",
   "metadata": {},
   "source": [
    "---\n",
    "cf) [그리드 서치](https://skasha.tistory.com/82)\n",
    "- 적절한 **하이퍼 파라미터 값을 찾는 일반적인 방법**  \n",
    "- 관심있는 하이퍼 파라미터들을 대상으로 가능한 모든 조합을 시도해 보려는 것\n",
    "- 처음에는 그리드 폭을 크게하여 빠른 탐색 → 이후 그리드를 세밀하게 탐색\n",
    "---"
   ]
  },
  {
   "cell_type": "markdown",
   "metadata": {},
   "source": [
    "### 5.2.2 유사도 특성 추가\n",
    "- 비선형 특성을 다루는 기법 중 하나  \n",
    "- 각 샘플이 **특정 랜드마크와 얼마나 닮았는지**를 측정하는 **유사도 함수 로 계산한 특성을 추가**해줌    \n",
    "\n",
    "#### 5.2.3 가우시안 RBF\n",
    "- 유사도 함수는 **가우시안 RBF**로 정의함.  \n",
    "     - 커널에는 Polynomial, Sigmoid, 가우시안 RBF커널 등 다양하나, 그중 **성능이 가장 좋아** 자주 사용되는것이 **가우시안 RBF커널**이다.  \n",
    "     - RBF 커널의 파라미터  \n",
    "         1. **gammma**:  가우시안 함수의 **표준편차와 관련有**, 하나의 데이터 샘플이 영향력을 행사하는 거리를 결정 함.  \n",
    "         gamma ↑, 한 데이터 포인트가 영향력을 행사하는 거리 ↓  \n",
    "         gamma ↓, 한 데이터 포인트가 영향력을 행사하는 거리 ↑  \n",
    "         ![RBF 파라미터 중, 감마값](https://t1.daumcdn.net/cfile/tistory/992DEB3359EACB9301)  \n",
    "         2. gamma와, C(cost) 사이의 관계  \n",
    "             ![gamma, cost](https://t1.daumcdn.net/cfile/tistory/996CB13359EB266A0F)    \n",
    "                 \n",
    "                 \n",
    "- 간단한 랜드마크 선택 방법은 **데이터 셋의 모든 샘플 위치에 랜드마크를 선정하는 법**   \n",
    "→ 단, 차원이 매우 커지고, 훈련세트가 매우 클 경우 매우 고차원이 되므로 속도저하 등의 문제有  \n",
    "    \n",
    "    \n",
    "- SVC클래스에서 커널트릭을 사용하여 가우시안 RBF커널 SVM을 구현할 수 있음  \n",
    "    `rbf_kernel_svm_clf = Pipeline([(\"scaler\", StandardScaler()),(\"svm_clf\", SVC(kernel=\"rbf\", gamma = 5, C = 0.001))])`  \n",
    "  "
   ]
  },
  {
   "cell_type": "markdown",
   "metadata": {},
   "source": [
    "---  \n",
    "cf) 여러가지 커널 중 어떤 커널 사용?  \n",
    "- 선형커널을 가장 먼저 사용하는 것이 일반적. (LinearSVC가 SVC(kernel = \"linear\")보다 훨씬 빠름)  \n",
    "- 데이터 셋이 아주 크거나, 특성 수가 많으면 선형커널을, 훈련 데이터 셋이 너무 크지 않으면 가우시안 RBF커널을 시도 해보는 것도 굿  \n",
    "---"
   ]
  },
  {
   "cell_type": "markdown",
   "metadata": {},
   "source": [
    "### 5.2.4 계산복잡도  \n",
    "- LinearSVC: 선형 SVM을 위한 최적화된 알고리즘을 구현한 liblinear라이브러리를 기반으로 함.   \n",
    "▶ **커널트릭이 지원되진 않음**. 일반적인 선형 SVM 모델 구현시 사용. (다항특성 추가시에도, LinearSVC사용 O)  \n",
    "    \n",
    "    \n",
    "- SVC는 **커널트릭이 지원됨**(가우시안, string 커널등,,)    \n",
    "▶ **시간복잡도가 매우 커서, 복잡하지만 작거나 중간 규모의 훈련세트**에 이 알고리즘이 잘 맞음"
   ]
  },
  {
   "cell_type": "markdown",
   "metadata": {},
   "source": [
    "### 5.3 SVM 회귀   \n",
    "    (skip)"
   ]
  },
  {
   "cell_type": "markdown",
   "metadata": {},
   "source": [
    "### 5.4 SVM 이론  \n",
    "   - 5.4.1 결정함수와 예측  \n",
    "       - **선형 SVM 분류기를 훈련시킨다**  \n",
    "           - 회귀직선 훈련과 동일한 맥락으로 이해하면됨. 얘도 Wx + b의 함수를 갖는다고 가정하고, 아래의 조건을 만족시키는 W, b를 찾는 과정임\n",
    "               1. 마진오류(이상치)를 하나도 발생시키지 않음   \n",
    "               2. 마진오류가 어느정도 있으나 가능한한 도로의 폭을 넓게하는 **W와 b를 찾는 과정**이라고 보면됨.    \n",
    "               \n",
    "     - 고차원에서 본 선형 svm분류기\n",
    "         ![결정함수, 결정경계](data:image/jpeg;base64,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)\n",
    "             \n",
    "         - n개의 특성이 존재할 때, 결정함수는 n차원의 초평면으로 나타나게되고, 이때 결정함수는 n-1차원의 초평면으로 나타나게됨.  \n",
    "         - 결정경계는 결정함수의 값이 0인 (음성인, 즉 분류되지 않는 지점) 이며, 결정함수의 값이 1이면 (양성인, 분류되는 지점) 최대 마진 경계라고 보면 됨\n",
    "    "
   ]
  },
  {
   "cell_type": "markdown",
   "metadata": {},
   "source": [
    "- 5.4.2 목적함수  \n",
    "    - 결정함수의 기울기 =  가중치(w)의 norm과 같음.  \n",
    "    - 기울기가 1/2만큼 줄면, 마진은 2배 만큼 넓어짐  \n",
    "    **따라서, 가중치(w) 가 작을 수록 → 결정함수의 기울기는 줄어들고 → 마진은 넓어지게 됨**    \n",
    "      \n",
    "      \n",
    "   - **하드마진**: 마진 오류를 하나도 만들지 않는 분류   \n",
    "   따라서 하드마진 선형 SVM 분류기의 목적 함수는 **1/2(W^t*W)** 로 나타낼 수 있음    \n",
    "   \n",
    "     \n",
    "   - **소프트 마진**: 마진 오류 허용과, 마진 폭 조절 사이의 **Trads-off를 적절히 절충한 분류**  \n",
    "       - 소프트 마진 목적함수 구성엔 **슬랙변수**가 추가됨.  \n",
    "       - 슬랙(i) : i번째 샘플이 얼마나 마진을 위반할지 결정  \n",
    "           \n",
    "        **목표: 마진 오류 최소화와 마진값(도로폭) 최대화 사이의 절충안 찾기**  \n",
    "    1. 슬랙값을 작게 만들기  → 마진 오류 최소화\n",
    "     2. 마진을 크게 하기위해 1/2(W^t*W)를 최소화  \n",
    "     3. 두 목표 사이의 트레이드 오프 정의 하는 파라미터 C   \n",
    "       \n",
    "      따라서, 이 세가지 파라미터로 구성된 목적함수 **1/2(W^t*W) + C시그마(슬랙)** 로 나타내짐"
   ]
  },
  {
   "cell_type": "markdown",
   "metadata": {},
   "source": [
    "- 5.4.3 콰드라틱 프로그래밍 (pass)"
   ]
  },
  {
   "cell_type": "markdown",
   "metadata": {},
   "source": [
    "- ★ 5.4.4 쌍대 문제"
   ]
  },
  {
   "cell_type": "markdown",
   "metadata": {},
   "source": [
    "- ★ 5.4.5 커널 SVM"
   ]
  },
  {
   "cell_type": "markdown",
   "metadata": {},
   "source": [
    "- 5.4.6 온라인 SVM  \n",
    "    - 온라인 학습: 새로운 샘플이 생겼을 때, 점진적으로 학습하는 것을 의미함.\n",
    "    - 선형 SVM분류기 비용함수(식5-13)를 최소화 하기 위해 경사하강법을 사용함.  \n",
    "        - 왼쪽항은 **제약을 주어 애초에 마진을 크게** 해버리고 , **뒤쪽항을 최소화시키는 방향**으로 하면 마진오류도 최소화하고 크기도 작게 만듦\n"
   ]
  },
  {
   "cell_type": "code",
   "execution_count": null,
   "metadata": {},
   "outputs": [],
   "source": []
  }
 ],
 "metadata": {
  "kernelspec": {
   "display_name": "Python 3",
   "language": "python",
   "name": "python3"
  },
  "language_info": {
   "codemirror_mode": {
    "name": "ipython",
    "version": 3
   },
   "file_extension": ".py",
   "mimetype": "text/x-python",
   "name": "python",
   "nbconvert_exporter": "python",
   "pygments_lexer": "ipython3",
   "version": "3.6.12"
  }
 },
 "nbformat": 4,
 "nbformat_minor": 4
}
