{
 "metadata": {
  "language_info": {
   "codemirror_mode": {
    "name": "ipython",
    "version": 3
   },
   "file_extension": ".py",
   "mimetype": "text/x-python",
   "name": "python",
   "nbconvert_exporter": "python",
   "pygments_lexer": "ipython3",
   "version": 3
  },
  "orig_nbformat": 2
 },
 "nbformat": 4,
 "nbformat_minor": 2,
 "cells": [
  {
   "source": [
    "# 13.3.3 케라스 전처리 층\n",
    "\n",
    "- keras.layers.Normalization : 특성 표준화 수행\n",
    "- TextVecotrization : 입력의 각 단어를 어휘 사전에 있는 인덱서를 인코딩\n",
    "\n",
    "==> 두 경우 모두 층을 만들고 샘플 데이터로 adapt()메서드 호출 한다음 일반층처럼 사용 가능\n",
    "\n",
    "\n",
    "\n",
    "- keras.layers.Discretizaition : 연속 데이터를 구간으로 나누고 원-핫 벡터로 인코딩\n",
    "\n",
    "- PreprocessingStage 클래스로 여러 전처리 층을 연결 \n"
   ],
   "cell_type": "markdown",
   "metadata": {}
  },
  {
   "cell_type": "code",
   "execution_count": null,
   "metadata": {},
   "outputs": [],
   "source": [
    "#PreprocessingStage 클래스로 여러 전처리 층을 연결\n",
    "normalization = keras.layers.Normalization()\n",
    "discretization = keras.layers.Discretization([...])\n",
    "pipline = keras.layers.PreprocessingStage([normalization, discretization])\n",
    "pipline.adapt(data_sample)"
   ]
  },
  {
   "source": [
    "### TF-IDF (term frequency-inverse document frequency)\n",
    "\n",
    "\n",
    "- ex) 어휘 사전 : $[\"and\", \"basketball\", \"more\"]$\n",
    "    - 데이터 : \"more and more basketball\"\n",
    "    - ==> 매핑결과 : $[1,1,2]$\n",
    "    - 잘 등장하지 않은 basketball에 중요도를 부여\n",
    "\n"
   ],
   "cell_type": "markdown",
   "metadata": {}
  }
 ]
}