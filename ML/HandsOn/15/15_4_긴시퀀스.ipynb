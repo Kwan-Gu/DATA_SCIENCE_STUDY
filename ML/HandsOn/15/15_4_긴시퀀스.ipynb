{
 "cells": [
  {
   "cell_type": "markdown",
   "metadata": {},
   "source": [
    "# 15.4. 긴 시퀀스 다루기\r\n",
    "\r\n",
    "## 긴 시퀀스란?\r\n",
    "- 긴 시계열, 텍스트, 오디오 등\r\n",
    "- 예시: 언어 모델을 통해 다음에 올 단어를 예측하는 작업(긴 문장)\r\n",
    "- \"**모스크바**에 여행을 왔는데 건물도 예쁘고 먹을 것도 맛있었어. 그런데 글쎄 직장 상사한테 전화가 왔어. 어디냐고 묻더라구 그래서 나는 말했지. 저 여행왔는데요. 여기 ___\"\r\n",
    "\r\n",
    "## 심층 RNN\r\n",
    "- 심층신경망(Deep Neural Network; DNN)처럼 그래디언트 소실과 폭주 문제를 가질 수 있음\r\n",
    "  - 신경망 하위층으로 갈수록 그래디언트가 점점 작아지거나 커지는 현상\r\n",
    "  - 모델 학습 시간 장기화 & 불안정\r\n",
    "\r\n",
    "## 15.4.1. 불안정한 그래디언트 문제\r\n",
    "- DNN: 가중치 초기화(글로럿|르쿤), 수렴하지 않는 활성화함수(ReLU|LeakyReLU), 배치정규화, 그래디언트 클리핑, 옵티마이저(모멘텀 최적화|네스테로프 가속경사...), 드롭아웃\r\n",
    "- RNN: 문제 해결방법에 있어서 DNN과 차이있는 부분들이 존재"
   ]
  },
  {
   "cell_type": "markdown",
   "metadata": {},
   "source": [
    "### 1. 수렴하지 않는 활성화함수 -> 수렴하는 활성화함수 \r\n",
    "- 수렴하지 않는 활성화함수(ReLU)는 오히려 불안정한 원인\r\n",
    "- 수렴하는 활성화함수(하이퍼볼릭 탄젠트 Hyperbolic tangent; tanh) 사용이 더 적절\r\n",
    "- 또는 그래디언트 클리핑을 적용하여 문제 완화"
   ]
  },
  {
   "cell_type": "code",
   "execution_count": 3,
   "metadata": {},
   "outputs": [
    {
     "data": {
      "application/vnd.plotly.v1+json": {
       "config": {
        "plotlyServerURL": "https://plot.ly"
       },
       "data": [
        {
         "hovertemplate": "x=%{x}<br>y=%{y}<extra></extra>",
         "legendgroup": "",
         "marker": {
          "color": "#636efa",
          "symbol": "circle"
         },
         "mode": "markers",
         "name": "",
         "orientation": "v",
         "showlegend": false,
         "type": "scatter",
         "x": [
          -4,
          -3.937007874015748,
          -3.8740157480314963,
          -3.811023622047244,
          -3.748031496062992,
          -3.6850393700787403,
          -3.622047244094488,
          -3.559055118110236,
          -3.4960629921259843,
          -3.4330708661417324,
          -3.3700787401574805,
          -3.3070866141732282,
          -3.2440944881889764,
          -3.1811023622047245,
          -3.1181102362204722,
          -3.0551181102362204,
          -2.9921259842519685,
          -2.9291338582677167,
          -2.866141732283465,
          -2.8031496062992125,
          -2.7401574803149606,
          -2.677165354330709,
          -2.6141732283464565,
          -2.5511811023622046,
          -2.4881889763779528,
          -2.425196850393701,
          -2.362204724409449,
          -2.2992125984251968,
          -2.236220472440945,
          -2.173228346456693,
          -2.1102362204724407,
          -2.047244094488189,
          -1.984251968503937,
          -1.9212598425196852,
          -1.8582677165354333,
          -1.795275590551181,
          -1.7322834645669292,
          -1.6692913385826773,
          -1.606299212598425,
          -1.5433070866141732,
          -1.4803149606299213,
          -1.4173228346456694,
          -1.3543307086614176,
          -1.2913385826771653,
          -1.2283464566929134,
          -1.1653543307086616,
          -1.1023622047244093,
          -1.0393700787401574,
          -0.9763779527559056,
          -0.9133858267716537,
          -0.8503937007874018,
          -0.7874015748031495,
          -0.7244094488188977,
          -0.6614173228346458,
          -0.5984251968503935,
          -0.5354330708661417,
          -0.4724409448818898,
          -0.40944881889763796,
          -0.3464566929133861,
          -0.2834645669291338,
          -0.22047244094488194,
          -0.15748031496063009,
          -0.09448818897637778,
          -0.03149606299212593,
          0.03149606299212593,
          0.09448818897637778,
          0.15748031496062964,
          0.2204724409448815,
          0.28346456692913335,
          0.3464566929133861,
          0.40944881889763796,
          0.4724409448818898,
          0.5354330708661417,
          0.5984251968503935,
          0.6614173228346454,
          0.7244094488188972,
          0.78740157480315,
          0.8503937007874018,
          0.9133858267716537,
          0.9763779527559056,
          1.0393700787401574,
          1.1023622047244093,
          1.1653543307086611,
          1.228346456692913,
          1.2913385826771648,
          1.3543307086614176,
          1.4173228346456694,
          1.4803149606299213,
          1.5433070866141732,
          1.606299212598425,
          1.6692913385826769,
          1.7322834645669287,
          1.7952755905511815,
          1.8582677165354333,
          1.9212598425196852,
          1.984251968503937,
          2.047244094488189,
          2.1102362204724407,
          2.1732283464566926,
          2.2362204724409445,
          2.2992125984251963,
          2.362204724409449,
          2.425196850393701,
          2.4881889763779528,
          2.5511811023622046,
          2.6141732283464565,
          2.6771653543307083,
          2.74015748031496,
          2.803149606299213,
          2.866141732283465,
          2.9291338582677167,
          2.9921259842519685,
          3.0551181102362204,
          3.1181102362204722,
          3.181102362204724,
          3.244094488188976,
          3.307086614173228,
          3.3700787401574805,
          3.4330708661417324,
          3.4960629921259843,
          3.559055118110236,
          3.622047244094488,
          3.68503937007874,
          3.7480314960629917,
          3.8110236220472444,
          3.8740157480314963,
          3.937007874015748,
          4
         ],
         "xaxis": "x",
         "y": [
          -0.999329299739067,
          -0.9992392828859001,
          -0.999137189793222,
          -0.9990214018625088,
          -0.9988900839793837,
          -0.9987411556732917,
          -0.9985722584706749,
          -0.9983807189493213,
          -0.9981635069407883,
          -0.9979171882603848,
          -0.9976378712696637,
          -0.997321146494306,
          -0.9969620184303671,
          -0.9965548285739226,
          -0.9960931686032396,
          -0.9955697825290863,
          -0.9949764565084522,
          -0.9943038948911761,
          -0.9935415809399573,
          -0.9926776205351729,
          -0.9916985670514651,
          -0.9905892254795947,
          -0.9893324337732797,
          -0.9879088193382638,
          -0.9862965285650022,
          -0.984470927356978,
          -0.9824042707493289,
          -0.980065339979554,
          -0.9774190458042687,
          -0.9744259975035896,
          -0.971042037939295,
          -0.9672177463083658,
          -0.9628979119472011,
          -0.9580209847945327,
          -0.952518511025901,
          -0.9463145660515238,
          -0.9393252016469655,
          -0.9314579295782274,
          -0.9226112707801983,
          -0.9126744069897307,
          -0.9015269806762176,
          -0.8890390989756705,
          -0.8750716077502046,
          -0.8594767122342118,
          -0.8420990300250172,
          -0.8227771690530559,
          -0.801345925784561,
          -0.7776391949564704,
          -0.7514936689064559,
          -0.7227533791215175,
          -0.6912750922193586,
          -0.6569345151388792,
          -0.6196331892537545,
          -0.5793058622022691,
          -0.535928024481856,
          -0.48952319427223556,
          -0.4401694415987548,
          -0.38800457823583473,
          -0.3332294205144625,
          -0.2761085745927391,
          -0.2169683082827518,
          -0.1561912610188105,
          -0.09420799216192956,
          -0.031485652404043864,
          0.031485652404043864,
          0.09420799216192956,
          0.1561912610188101,
          0.21696830828275138,
          0.27610857459273863,
          0.3332294205144625,
          0.38800457823583473,
          0.4401694415987548,
          0.48952319427223556,
          0.535928024481856,
          0.5793058622022688,
          0.6196331892537542,
          0.6569345151388795,
          0.6912750922193586,
          0.7227533791215175,
          0.7514936689064559,
          0.7776391949564704,
          0.801345925784561,
          0.8227771690530558,
          0.8420990300250171,
          0.8594767122342117,
          0.8750716077502046,
          0.8890390989756705,
          0.9015269806762176,
          0.9126744069897307,
          0.9226112707801983,
          0.9314579295782274,
          0.9393252016469655,
          0.9463145660515238,
          0.952518511025901,
          0.9580209847945327,
          0.9628979119472011,
          0.9672177463083658,
          0.971042037939295,
          0.9744259975035896,
          0.9774190458042687,
          0.980065339979554,
          0.9824042707493289,
          0.984470927356978,
          0.9862965285650022,
          0.9879088193382638,
          0.9893324337732797,
          0.9905892254795947,
          0.9916985670514651,
          0.9926776205351729,
          0.9935415809399573,
          0.9943038948911761,
          0.9949764565084522,
          0.9955697825290863,
          0.9960931686032396,
          0.9965548285739226,
          0.9969620184303671,
          0.997321146494306,
          0.9976378712696637,
          0.9979171882603848,
          0.9981635069407883,
          0.9983807189493213,
          0.9985722584706749,
          0.9987411556732917,
          0.9988900839793837,
          0.9990214018625088,
          0.999137189793222,
          0.9992392828859001,
          0.999329299739067
         ],
         "yaxis": "y"
        }
       ],
       "layout": {
        "legend": {
         "tracegroupgap": 0
        },
        "margin": {
         "t": 60
        },
        "template": {
         "data": {
          "bar": [
           {
            "error_x": {
             "color": "#2a3f5f"
            },
            "error_y": {
             "color": "#2a3f5f"
            },
            "marker": {
             "line": {
              "color": "#E5ECF6",
              "width": 0.5
             }
            },
            "type": "bar"
           }
          ],
          "barpolar": [
           {
            "marker": {
             "line": {
              "color": "#E5ECF6",
              "width": 0.5
             }
            },
            "type": "barpolar"
           }
          ],
          "carpet": [
           {
            "aaxis": {
             "endlinecolor": "#2a3f5f",
             "gridcolor": "white",
             "linecolor": "white",
             "minorgridcolor": "white",
             "startlinecolor": "#2a3f5f"
            },
            "baxis": {
             "endlinecolor": "#2a3f5f",
             "gridcolor": "white",
             "linecolor": "white",
             "minorgridcolor": "white",
             "startlinecolor": "#2a3f5f"
            },
            "type": "carpet"
           }
          ],
          "choropleth": [
           {
            "colorbar": {
             "outlinewidth": 0,
             "ticks": ""
            },
            "type": "choropleth"
           }
          ],
          "contour": [
           {
            "colorbar": {
             "outlinewidth": 0,
             "ticks": ""
            },
            "colorscale": [
             [
              0,
              "#0d0887"
             ],
             [
              0.1111111111111111,
              "#46039f"
             ],
             [
              0.2222222222222222,
              "#7201a8"
             ],
             [
              0.3333333333333333,
              "#9c179e"
             ],
             [
              0.4444444444444444,
              "#bd3786"
             ],
             [
              0.5555555555555556,
              "#d8576b"
             ],
             [
              0.6666666666666666,
              "#ed7953"
             ],
             [
              0.7777777777777778,
              "#fb9f3a"
             ],
             [
              0.8888888888888888,
              "#fdca26"
             ],
             [
              1,
              "#f0f921"
             ]
            ],
            "type": "contour"
           }
          ],
          "contourcarpet": [
           {
            "colorbar": {
             "outlinewidth": 0,
             "ticks": ""
            },
            "type": "contourcarpet"
           }
          ],
          "heatmap": [
           {
            "colorbar": {
             "outlinewidth": 0,
             "ticks": ""
            },
            "colorscale": [
             [
              0,
              "#0d0887"
             ],
             [
              0.1111111111111111,
              "#46039f"
             ],
             [
              0.2222222222222222,
              "#7201a8"
             ],
             [
              0.3333333333333333,
              "#9c179e"
             ],
             [
              0.4444444444444444,
              "#bd3786"
             ],
             [
              0.5555555555555556,
              "#d8576b"
             ],
             [
              0.6666666666666666,
              "#ed7953"
             ],
             [
              0.7777777777777778,
              "#fb9f3a"
             ],
             [
              0.8888888888888888,
              "#fdca26"
             ],
             [
              1,
              "#f0f921"
             ]
            ],
            "type": "heatmap"
           }
          ],
          "heatmapgl": [
           {
            "colorbar": {
             "outlinewidth": 0,
             "ticks": ""
            },
            "colorscale": [
             [
              0,
              "#0d0887"
             ],
             [
              0.1111111111111111,
              "#46039f"
             ],
             [
              0.2222222222222222,
              "#7201a8"
             ],
             [
              0.3333333333333333,
              "#9c179e"
             ],
             [
              0.4444444444444444,
              "#bd3786"
             ],
             [
              0.5555555555555556,
              "#d8576b"
             ],
             [
              0.6666666666666666,
              "#ed7953"
             ],
             [
              0.7777777777777778,
              "#fb9f3a"
             ],
             [
              0.8888888888888888,
              "#fdca26"
             ],
             [
              1,
              "#f0f921"
             ]
            ],
            "type": "heatmapgl"
           }
          ],
          "histogram": [
           {
            "marker": {
             "colorbar": {
              "outlinewidth": 0,
              "ticks": ""
             }
            },
            "type": "histogram"
           }
          ],
          "histogram2d": [
           {
            "colorbar": {
             "outlinewidth": 0,
             "ticks": ""
            },
            "colorscale": [
             [
              0,
              "#0d0887"
             ],
             [
              0.1111111111111111,
              "#46039f"
             ],
             [
              0.2222222222222222,
              "#7201a8"
             ],
             [
              0.3333333333333333,
              "#9c179e"
             ],
             [
              0.4444444444444444,
              "#bd3786"
             ],
             [
              0.5555555555555556,
              "#d8576b"
             ],
             [
              0.6666666666666666,
              "#ed7953"
             ],
             [
              0.7777777777777778,
              "#fb9f3a"
             ],
             [
              0.8888888888888888,
              "#fdca26"
             ],
             [
              1,
              "#f0f921"
             ]
            ],
            "type": "histogram2d"
           }
          ],
          "histogram2dcontour": [
           {
            "colorbar": {
             "outlinewidth": 0,
             "ticks": ""
            },
            "colorscale": [
             [
              0,
              "#0d0887"
             ],
             [
              0.1111111111111111,
              "#46039f"
             ],
             [
              0.2222222222222222,
              "#7201a8"
             ],
             [
              0.3333333333333333,
              "#9c179e"
             ],
             [
              0.4444444444444444,
              "#bd3786"
             ],
             [
              0.5555555555555556,
              "#d8576b"
             ],
             [
              0.6666666666666666,
              "#ed7953"
             ],
             [
              0.7777777777777778,
              "#fb9f3a"
             ],
             [
              0.8888888888888888,
              "#fdca26"
             ],
             [
              1,
              "#f0f921"
             ]
            ],
            "type": "histogram2dcontour"
           }
          ],
          "mesh3d": [
           {
            "colorbar": {
             "outlinewidth": 0,
             "ticks": ""
            },
            "type": "mesh3d"
           }
          ],
          "parcoords": [
           {
            "line": {
             "colorbar": {
              "outlinewidth": 0,
              "ticks": ""
             }
            },
            "type": "parcoords"
           }
          ],
          "pie": [
           {
            "automargin": true,
            "type": "pie"
           }
          ],
          "scatter": [
           {
            "marker": {
             "colorbar": {
              "outlinewidth": 0,
              "ticks": ""
             }
            },
            "type": "scatter"
           }
          ],
          "scatter3d": [
           {
            "line": {
             "colorbar": {
              "outlinewidth": 0,
              "ticks": ""
             }
            },
            "marker": {
             "colorbar": {
              "outlinewidth": 0,
              "ticks": ""
             }
            },
            "type": "scatter3d"
           }
          ],
          "scattercarpet": [
           {
            "marker": {
             "colorbar": {
              "outlinewidth": 0,
              "ticks": ""
             }
            },
            "type": "scattercarpet"
           }
          ],
          "scattergeo": [
           {
            "marker": {
             "colorbar": {
              "outlinewidth": 0,
              "ticks": ""
             }
            },
            "type": "scattergeo"
           }
          ],
          "scattergl": [
           {
            "marker": {
             "colorbar": {
              "outlinewidth": 0,
              "ticks": ""
             }
            },
            "type": "scattergl"
           }
          ],
          "scattermapbox": [
           {
            "marker": {
             "colorbar": {
              "outlinewidth": 0,
              "ticks": ""
             }
            },
            "type": "scattermapbox"
           }
          ],
          "scatterpolar": [
           {
            "marker": {
             "colorbar": {
              "outlinewidth": 0,
              "ticks": ""
             }
            },
            "type": "scatterpolar"
           }
          ],
          "scatterpolargl": [
           {
            "marker": {
             "colorbar": {
              "outlinewidth": 0,
              "ticks": ""
             }
            },
            "type": "scatterpolargl"
           }
          ],
          "scatterternary": [
           {
            "marker": {
             "colorbar": {
              "outlinewidth": 0,
              "ticks": ""
             }
            },
            "type": "scatterternary"
           }
          ],
          "surface": [
           {
            "colorbar": {
             "outlinewidth": 0,
             "ticks": ""
            },
            "colorscale": [
             [
              0,
              "#0d0887"
             ],
             [
              0.1111111111111111,
              "#46039f"
             ],
             [
              0.2222222222222222,
              "#7201a8"
             ],
             [
              0.3333333333333333,
              "#9c179e"
             ],
             [
              0.4444444444444444,
              "#bd3786"
             ],
             [
              0.5555555555555556,
              "#d8576b"
             ],
             [
              0.6666666666666666,
              "#ed7953"
             ],
             [
              0.7777777777777778,
              "#fb9f3a"
             ],
             [
              0.8888888888888888,
              "#fdca26"
             ],
             [
              1,
              "#f0f921"
             ]
            ],
            "type": "surface"
           }
          ],
          "table": [
           {
            "cells": {
             "fill": {
              "color": "#EBF0F8"
             },
             "line": {
              "color": "white"
             }
            },
            "header": {
             "fill": {
              "color": "#C8D4E3"
             },
             "line": {
              "color": "white"
             }
            },
            "type": "table"
           }
          ]
         },
         "layout": {
          "annotationdefaults": {
           "arrowcolor": "#2a3f5f",
           "arrowhead": 0,
           "arrowwidth": 1
          },
          "autotypenumbers": "strict",
          "coloraxis": {
           "colorbar": {
            "outlinewidth": 0,
            "ticks": ""
           }
          },
          "colorscale": {
           "diverging": [
            [
             0,
             "#8e0152"
            ],
            [
             0.1,
             "#c51b7d"
            ],
            [
             0.2,
             "#de77ae"
            ],
            [
             0.3,
             "#f1b6da"
            ],
            [
             0.4,
             "#fde0ef"
            ],
            [
             0.5,
             "#f7f7f7"
            ],
            [
             0.6,
             "#e6f5d0"
            ],
            [
             0.7,
             "#b8e186"
            ],
            [
             0.8,
             "#7fbc41"
            ],
            [
             0.9,
             "#4d9221"
            ],
            [
             1,
             "#276419"
            ]
           ],
           "sequential": [
            [
             0,
             "#0d0887"
            ],
            [
             0.1111111111111111,
             "#46039f"
            ],
            [
             0.2222222222222222,
             "#7201a8"
            ],
            [
             0.3333333333333333,
             "#9c179e"
            ],
            [
             0.4444444444444444,
             "#bd3786"
            ],
            [
             0.5555555555555556,
             "#d8576b"
            ],
            [
             0.6666666666666666,
             "#ed7953"
            ],
            [
             0.7777777777777778,
             "#fb9f3a"
            ],
            [
             0.8888888888888888,
             "#fdca26"
            ],
            [
             1,
             "#f0f921"
            ]
           ],
           "sequentialminus": [
            [
             0,
             "#0d0887"
            ],
            [
             0.1111111111111111,
             "#46039f"
            ],
            [
             0.2222222222222222,
             "#7201a8"
            ],
            [
             0.3333333333333333,
             "#9c179e"
            ],
            [
             0.4444444444444444,
             "#bd3786"
            ],
            [
             0.5555555555555556,
             "#d8576b"
            ],
            [
             0.6666666666666666,
             "#ed7953"
            ],
            [
             0.7777777777777778,
             "#fb9f3a"
            ],
            [
             0.8888888888888888,
             "#fdca26"
            ],
            [
             1,
             "#f0f921"
            ]
           ]
          },
          "colorway": [
           "#636efa",
           "#EF553B",
           "#00cc96",
           "#ab63fa",
           "#FFA15A",
           "#19d3f3",
           "#FF6692",
           "#B6E880",
           "#FF97FF",
           "#FECB52"
          ],
          "font": {
           "color": "#2a3f5f"
          },
          "geo": {
           "bgcolor": "white",
           "lakecolor": "white",
           "landcolor": "#E5ECF6",
           "showlakes": true,
           "showland": true,
           "subunitcolor": "white"
          },
          "hoverlabel": {
           "align": "left"
          },
          "hovermode": "closest",
          "mapbox": {
           "style": "light"
          },
          "paper_bgcolor": "white",
          "plot_bgcolor": "#E5ECF6",
          "polar": {
           "angularaxis": {
            "gridcolor": "white",
            "linecolor": "white",
            "ticks": ""
           },
           "bgcolor": "#E5ECF6",
           "radialaxis": {
            "gridcolor": "white",
            "linecolor": "white",
            "ticks": ""
           }
          },
          "scene": {
           "xaxis": {
            "backgroundcolor": "#E5ECF6",
            "gridcolor": "white",
            "gridwidth": 2,
            "linecolor": "white",
            "showbackground": true,
            "ticks": "",
            "zerolinecolor": "white"
           },
           "yaxis": {
            "backgroundcolor": "#E5ECF6",
            "gridcolor": "white",
            "gridwidth": 2,
            "linecolor": "white",
            "showbackground": true,
            "ticks": "",
            "zerolinecolor": "white"
           },
           "zaxis": {
            "backgroundcolor": "#E5ECF6",
            "gridcolor": "white",
            "gridwidth": 2,
            "linecolor": "white",
            "showbackground": true,
            "ticks": "",
            "zerolinecolor": "white"
           }
          },
          "shapedefaults": {
           "line": {
            "color": "#2a3f5f"
           }
          },
          "ternary": {
           "aaxis": {
            "gridcolor": "white",
            "linecolor": "white",
            "ticks": ""
           },
           "baxis": {
            "gridcolor": "white",
            "linecolor": "white",
            "ticks": ""
           },
           "bgcolor": "#E5ECF6",
           "caxis": {
            "gridcolor": "white",
            "linecolor": "white",
            "ticks": ""
           }
          },
          "title": {
           "x": 0.05
          },
          "xaxis": {
           "automargin": true,
           "gridcolor": "white",
           "linecolor": "white",
           "ticks": "",
           "title": {
            "standoff": 15
           },
           "zerolinecolor": "white",
           "zerolinewidth": 2
          },
          "yaxis": {
           "automargin": true,
           "gridcolor": "white",
           "linecolor": "white",
           "ticks": "",
           "title": {
            "standoff": 15
           },
           "zerolinecolor": "white",
           "zerolinewidth": 2
          }
         }
        },
        "xaxis": {
         "anchor": "y",
         "domain": [
          0,
          1
         ],
         "title": {
          "text": "x"
         }
        },
        "yaxis": {
         "anchor": "x",
         "domain": [
          0,
          1
         ],
         "title": {
          "text": "y"
         }
        }
       }
      }
     },
     "metadata": {},
     "output_type": "display_data"
    }
   ],
   "source": [
    "# Plot tanh\r\n",
    "import numpy as np\r\n",
    "import plotly.express as px\r\n",
    "\r\n",
    "x = np.linspace(-4, 4, 128)\r\n",
    "y = np.tanh(x)\r\n",
    "\r\n",
    "fig = px.scatter(x = x, y = y)\r\n",
    "fig.show()"
   ]
  },
  {
   "cell_type": "markdown",
   "metadata": {},
   "source": [
    "### 2. 배치정규화 -> 층정규화(Layer Normalization)\r\n",
    "- 배치정규화: 배치 차원에 대해 정규화\r\n",
    "- 층정규화: 특성 차원에 대해 정규화\r\n",
    "- 일반적으로 입력(inputs)과 은닉상태(states)의 선형 조합 직후에 적용"
   ]
  },
  {
   "cell_type": "code",
   "execution_count": 8,
   "metadata": {},
   "outputs": [
    {
     "name": "stdout",
     "output_type": "stream",
     "text": [
      "Model: \"sequential\"\n",
      "_________________________________________________________________\n",
      "Layer (type)                 Output Shape              Param #   \n",
      "=================================================================\n",
      "rnn (RNN)                    (None, None, 20)          480       \n",
      "_________________________________________________________________\n",
      "rnn_1 (RNN)                  (None, None, 20)          860       \n",
      "_________________________________________________________________\n",
      "time_distributed (TimeDistri (None, None, 10)          210       \n",
      "=================================================================\n",
      "Total params: 1,550\n",
      "Trainable params: 1,550\n",
      "Non-trainable params: 0\n",
      "_________________________________________________________________\n"
     ]
    }
   ],
   "source": [
    "# Build layer normalization (LN)\r\n",
    "from tensorflow import keras\r\n",
    "\r\n",
    "class LN_SimpleRNNCell(keras.layers.Layer):\r\n",
    "    def __init__(self, units, activation = 'tanh', **kwargs):\r\n",
    "        super().__init__(**kwargs)\r\n",
    "        self.state_size  = units\r\n",
    "        self.output_size = units\r\n",
    "        self.simple_rnn_cell = keras.layers.SimpleRNNCell(units, activation = None)\r\n",
    "        self.layer_norm      = keras.layers.LayerNormalization()\r\n",
    "        self.activation = keras.activations.get(activation)\r\n",
    "    \r\n",
    "    def call(self, inputs, states):\r\n",
    "        outputs, new_states = self.simple_rnn_cell(inputs, states) # 입력과 은닉상태의 선형 조합(단, 여기서 outputs = new_states[0]하게 계산됨)\r\n",
    "        norm_outputs        = self.activation(self.layer_norm(outputs)) # 층정규화 적용 후 활성화함수 적용\r\n",
    "        return norm_outputs, [norm_outputs]\r\n",
    "\r\n",
    "\r\n",
    "model = keras.models.Sequential([\r\n",
    "    keras.layers.RNN(LN_SimpleRNNCell(20), return_sequences = True, input_shape = [None, 1]),\r\n",
    "    keras.layers.RNN(LN_SimpleRNNCell(20), return_sequences = True),\r\n",
    "    keras.layers.TimeDistributed(keras.layers.Dense(10))\r\n",
    "])\r\n",
    "\r\n",
    "model.summary()"
   ]
  },
  {
   "cell_type": "markdown",
   "metadata": {},
   "source": [
    "### 3. 드롭아웃(TensorFlow Keras 기준 매개변수)\r\n",
    "- dropout: 타임스텝마다 입력에 적용되는 드롭아웃 비율\r\n",
    "- recurrent_dropout: 타임스텝마다 은닉상태에 적용되는 드롭아웃 비율"
   ]
  },
  {
   "cell_type": "code",
   "execution_count": null,
   "metadata": {},
   "outputs": [],
   "source": [
    "tf.keras.layers.SimpleRNNCell(\r\n",
    "    units, activation='tanh', use_bias=True,\r\n",
    "    kernel_initializer='glorot_uniform',\r\n",
    "    recurrent_initializer='orthogonal',\r\n",
    "    bias_initializer='zeros', kernel_regularizer=None,\r\n",
    "    recurrent_regularizer=None, bias_regularizer=None, kernel_constraint=None,\r\n",
    "    recurrent_constraint=None, bias_constraint=None, dropout=0.0,\r\n",
    "    recurrent_dropout=0.0, **kwargs\r\n",
    ")"
   ]
  },
  {
   "cell_type": "markdown",
   "metadata": {},
   "source": [
    "## 15.4.2. 단기 기억 문제\r\n",
    "- RNN cell을 거치면서 일부 정보는 매 타임스텝마다 사라짐\r\n",
    "- \"**모스크바**에 여행을 왔는데 건물도 예쁘고 먹을 것도 맛있었어. 그런데 글쎄 직장 상사한테 전화가 왔어. 어디냐고 묻더라구 그래서 나는 말했지. 저 여행왔는데요. 여기 ___\"\r\n",
    "- \"모스크바\"에 대한 정보를 기억하지 못할 수 있음(단기 기억 문제)\r\n",
    "- 장기(Long term) 메모리의 등장"
   ]
  },
  {
   "cell_type": "markdown",
   "metadata": {},
   "source": [
    "\r\n",
    "### LSTM (Long Short-Term Memory)\r\n",
    "- Long short-term memory (Sepp Hochreiter and Jürgen Schmidhuber, 1997)에서 처음 소개됨\r\n",
    "- 이후 여러 연구자들을 거쳐 향상"
   ]
  },
  {
   "cell_type": "code",
   "execution_count": 9,
   "metadata": {},
   "outputs": [
    {
     "name": "stdout",
     "output_type": "stream",
     "text": [
      "Model: \"sequential_1\"\n",
      "_________________________________________________________________\n",
      "Layer (type)                 Output Shape              Param #   \n",
      "=================================================================\n",
      "lstm (LSTM)                  (None, None, 20)          1760      \n",
      "_________________________________________________________________\n",
      "lstm_1 (LSTM)                (None, None, 20)          3280      \n",
      "_________________________________________________________________\n",
      "time_distributed_1 (TimeDist (None, None, 10)          210       \n",
      "=================================================================\n",
      "Total params: 5,250\n",
      "Trainable params: 5,250\n",
      "Non-trainable params: 0\n",
      "_________________________________________________________________\n"
     ]
    }
   ],
   "source": [
    "# Build LSTM\r\n",
    "model = keras.models.Sequential([\r\n",
    "    keras.layers.LSTM(20, return_sequences = True, input_shape = [None, 1]),\r\n",
    "    keras.layers.LSTM(20, return_sequences = True),\r\n",
    "    keras.layers.TimeDistributed(keras.layers.Dense(10))\r\n",
    "])\r\n",
    "\r\n",
    "model.summary()"
   ]
  },
  {
   "cell_type": "markdown",
   "metadata": {},
   "source": [
    "### LSTM 구조\r\n",
    "- h(t): 단기 상태(Short-term state)\r\n",
    "- c(t): 장기 상태(Long-term state)\r\n",
    "- 핵심: 장기 상태에 저장할 것(입력), 버릴 것(삭제), 읽어들일 것(출력)을 학습\r\n",
    "  - 3 종류의 게이트 제어기 모두 로지스틱 활성화함수를 사용(0 ~ 1 범위)\r\n",
    "  - 삭제 게이트(forget gate): 장기 상태의 어느 부분이 삭제되어야 하는지 제어\r\n",
    "  - 입력 게이트(input gate) : 주 층(g(t))의 어느 부분이 장기 상태에 더해져야 하는지 제어\r\n",
    "  - 출력 게이트(output gate): 장기 상태의 어느 부분을 읽어서 h(t), y(t)로 출력해야 하는지 제어\r\n",
    "- 긴 시퀀스에 대해 좋은 성능을 보임"
   ]
  },
  {
   "cell_type": "code",
   "execution_count": 10,
   "metadata": {},
   "outputs": [
    {
     "data": {
      "image/png": "[encoded data removed]",
      "text/plain": "<IPython.core.display.Image object>"
     },
     "execution_count": 10,
     "metadata": {},
     "output_type": "execute_result"
    }
   ],
   "source": [
    "from IPython.display import Image\r\n",
    "\r\n",
    "Image('./lstm_cell.png')"
   ]
  },
  {
   "cell_type": "markdown",
   "metadata": {},
   "source": [
    "### 핍홀 연결(LSTM 변종)\r\n",
    "- 일반 LSTM: 게이트 제어기가 입력 x(t), 이전 단기 상태 h(t-1)만 참고(tf.keras.layers.LSTMCell)\r\n",
    "- 핍홀 연결(Peephole connection): 게이트 제어기가 입력 x(t), h(t-1) 뿐만 아니라 장기 상태 c(t-1) 또는 c(t)도 참고(tf.keras.experimental.PeepholeLSTMCell)"
   ]
  },
  {
   "cell_type": "code",
   "execution_count": 1,
   "metadata": {},
   "outputs": [
    {
     "data": {
      "image/png": "[encoded data removed]",
      "text/plain": "<IPython.core.display.Image object>"
     },
     "execution_count": 1,
     "metadata": {},
     "output_type": "execute_result"
    }
   ],
   "source": [
    "from IPython.display import Image\r\n",
    "\r\n",
    "Image('./peephole_connection.png')"
   ]
  }
 ],
 "metadata": {
  "kernelspec": {
   "display_name": "Python 3.8.7 64-bit",
   "name": "python387jvsc74a57bd077ce815a0754f4627093f19bb851f9c1582d5575dae88618c8a1250e97309331"
  },
  "language_info": {
   "codemirror_mode": {
    "name": "ipython",
    "version": 3
   },
   "file_extension": ".py",
   "mimetype": "text/x-python",
   "name": "python",
   "nbconvert_exporter": "python",
   "pygments_lexer": "ipython3",
   "version": "3.8.7"
  },
  "metadata": {
   "interpreter": {
    "hash": "77ce815a0754f4627093f19bb851f9c1582d5575dae88618c8a1250e97309331"
   }
  },
  "orig_nbformat": 2
 },
 "nbformat": 4,
 "nbformat_minor": 2
}