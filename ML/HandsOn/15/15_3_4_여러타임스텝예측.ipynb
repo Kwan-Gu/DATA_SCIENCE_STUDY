{
  "nbformat": 4,
  "nbformat_minor": 0,
  "metadata": {
    "colab": {
      "name": "15.3.4.ipynb",
      "provenance": [],
      "collapsed_sections": []
    },
    "kernelspec": {
      "name": "python3",
      "display_name": "Python 3"
    },
    "language_info": {
      "name": "python"
    }
  },
  "cells": [
    {
      "cell_type": "markdown",
      "metadata": {
        "id": "w_3gLXtG3jvq"
      },
      "source": [
        "# 15. 3. 4 여러 타임 스텝 앞을 예측하기 "
      ]
    },
    {
      "cell_type": "markdown",
      "metadata": {
        "id": "KrTMV2Wz3r2l"
      },
      "source": [
        "타깃을 바꾸어 여러 타임 스텝 앞의 값을 예측할수있음 \n",
        "\n",
        "(예를들어 1 스텝 앞이 아니라 10 스텝 앞의 값으로 타깃을 바꾸어 10스텝 앞을 예측)\n",
        "\n",
        "**다음값 예측은?**\n",
        "\n",
        "1. 이미 훈련된 모델을 사용하여 다음 값을 예측한다음 입력으로 추가 \n",
        "  - 이 모델을 사용해 다시 다음 값을 예측하는 식"
      ]
    },
    {
      "cell_type": "code",
      "metadata": {
        "id": "N3k2NsPq1yHL"
      },
      "source": [
        "series = generate_time_series(1, n_steps +10)\n",
        "X_new, Y_new = series[:, :n_steps], sereis[:, n_steps:]\n",
        "X = X_new\n",
        "\n",
        "for step_ahead in range(10):\n",
        "  y_pred_one = model.predict(X[:, step_ahead:])[:, np.newaxis, :]# 다음 날 예측\n",
        "  X = np.concatenate([X, y_pred_one], axis=1) # 예측한 값을 다시 학습 데이터셋과 결합\n",
        "\n",
        "Y_pred = X[:, n_steps:]"
      ],
      "execution_count": null,
      "outputs": []
    },
    {
      "cell_type": "markdown",
      "metadata": {
        "id": "YYb4XHmIpJRm"
      },
      "source": [
        "미래의 타임 스텝은 오차가 누적될 수있어서 다음 스텝에 대한 예측은 보통 더 미래의 타임스텝에 대한 예측보다 정확함\n",
        "\n",
        "이 방식은 약 0.029의 MSE를 얻음 \n",
        "\n",
        "한번에 하나의 미래 스텝을 예측하기 위해 RNN을 사용하는것보다 나음 \n",
        "\n"
      ]
    },
    {
      "cell_type": "markdown",
      "metadata": {
        "id": "UB9ILkTupvkx"
      },
      "source": [
        "2. RNN 을 훈련하여 한번에 10개 예측   \n",
        "      - 시퀀스-투-벡터 모델을 사용하지만, 값 10개를 출력해야함 -> 타깃을 다음 10개의 값이 담긴 벡터로 바꿈 \n"
      ]
    },
    {
      "cell_type": "code",
      "metadata": {
        "id": "u21_LZcG2aKe"
      },
      "source": [
        "series = generate_time_serues(10000, n_steps + 10)\n",
        "# Y_train, valid, test의 sequence_length가 10이 됨\n",
        "X_train, Y_train = series[:7000, : n_steps], series[:7000, -10:, 0]\n",
        "X_valid, Y_valid = series[7000:9000, :n_steps], series[7000:9000, -10:, 0]\n",
        "X_test, Y_test = series[9000:, :n_steps], series[9000:, -10:, 0]"
      ],
      "execution_count": null,
      "outputs": []
    },
    {
      "cell_type": "code",
      "metadata": {
        "id": "_BT_Dp7b256z"
      },
      "source": [
        "model = keras.models.Sequential([\n",
        "  keras.layers.SimpleRNN(20, return_sequences=True, input_shape=[None, 1]),\n",
        "  keras.layers.SimpleRNN# 한개의 유닛이 아니라 10개의 유닛을 가진 출력층이 필요\n",
        "])"
      ],
      "execution_count": null,
      "outputs": []
    },
    {
      "cell_type": "code",
      "metadata": {
        "id": "afhrCWFG3Lom"
      },
      "source": [
        "Y_pred = model.predict(X_new) # 한번에 다음값 10개를 매우 쉽게 예측할수있음 "
      ],
      "execution_count": null,
      "outputs": []
    },
    {
      "cell_type": "markdown",
      "metadata": {
        "id": "IeHOC7hSqXaR"
      },
      "source": [
        "MSE는 약 0.008\n",
        "\n",
        "선형모델보다 좋음 \n",
        "\n",
        "하지만 마지막 타임 스텝에서만 다음 값 10개를 예측하도록 모델을 훈련하는 대신 모든 타임 스텝에서 다음 값 10개를 예측하도록 모델을 훈련할 수 있음 \n",
        "\n",
        "  -**시퀀스-투-시퀀스 RNN**\n",
        "\n",
        "장점: 마지막 타임 스텝에서의 출력뿐 아니라 모든 타임 스텝에서 RNN출력에 대한 항이 손실에 포함 \n",
        "\n",
        "- 더 많은 오차 그래디언트가 모델로 흐르며, 시간에 따라 흐를 필요가 없음\n",
        "- 훈련을 안정적으로 만들고 훈련 속도를 높임\n"
      ]
    },
    {
      "cell_type": "code",
      "metadata": {
        "id": "zsZ5a6fO3S8f"
      },
      "source": [
        "Y = np.empty((10000, n_steps, 10)) # 각 타깃은 10D 벡터의 시퀀스\n",
        "for step_ahead in range(1, 10 + 1):\n",
        "    Y[..., step_ahead - 1] = series[..., step_ahead:step_ahead + n_steps, 0]\n",
        "Y_train = Y[:7000] \n",
        "Y_valid = Y[7000:9000]\n",
        "Y_test = Y[9000:]"
      ],
      "execution_count": null,
      "outputs": []
    },
    {
      "cell_type": "code",
      "metadata": {
        "id": "fxmiC3J7rI1m"
      },
      "source": [
        "X_train.shape # (7000, 50, 1)\n",
        "Y_train.shape # (7000, 50, 10)\n"
      ],
      "execution_count": null,
      "outputs": []
    },
    {
      "cell_type": "markdown",
      "metadata": {
        "id": "xDHfxZQrrdW1"
      },
      "source": [
        "- 시퀀스-투-시퀀스 모델로 바꾸기 위해, 모든 순환 층에 return_sequences=True 로 지정\n",
        "\n",
        "- 모든 타임 스텝에서 출력을 Dense 층에 적용 => TimeDistributed 층 사용\n",
        "\n",
        "1.  이 층은 다른 층을 감싸 입력 시퀀스의 모든 타임 스텝에 이를 적용\n",
        "2.  각 타임 스텝을 별개의 샘플처럼 다루도록 입력의 크기를 바꾸어 효과적으로 수행\n",
        "3.  그 후 Dense층에 적용\n",
        "마지막으로 출력 크기를 시퀀스로 되돌림\n",
        "4.  여기서 Dense 층이 유닛을 10개 가지므로 출력 차원의 길이는 10"
      ]
    },
    {
      "cell_type": "code",
      "metadata": {
        "id": "6_hwKjVE3XYn"
      },
      "source": [
        "model = keras.models.Sequential([\n",
        "    keras.layers.SimpleRNN(20, return_sequences=True, input_shape=[None, 1]),\n",
        "    keras.layers.SimpleRNN(20, return_sequences=True),# TimeDistributed 적용을 위해 마지막 층에도 return_sequences=True 필수\n",
        "    keras.layers.TimeDistributed(keras.layers.Dense(10)) \n",
        "])"
      ],
      "execution_count": null,
      "outputs": []
    },
    {
      "cell_type": "code",
      "metadata": {
        "id": "hGDimV9L3bjt"
      },
      "source": [
        "def last_time_step_mse(Y_true, Y_pred):\n",
        "    return keras.metrics.mean_squared_error(Y_true[:, -1], Y_pred[:, -1])\n",
        "\n",
        "optimizer=keras.optimizers.Adam(lr=0.01)\n",
        "model.compile(loss=\"mse\", metrics=[last_time_step_mse])"
      ],
      "execution_count": null,
      "outputs": []
    },
    {
      "cell_type": "markdown",
      "metadata": {
        "id": "Pg5DscI-r_Df"
      },
      "source": [
        "훈련하는동안 모든 출력이 필요하지만 예측과 평가에는 마지막 타임 스텝의 출력만 사용됨 \n",
        "\n",
        "평가를 위해 마지막 타임 스텝의 출력에 대한 MSE만을 계산하는 사용자 정의 지표 사용\n",
        "\n",
        "\n",
        "MSE 로 0.006 -> 이전보다 25% 향상\n",
        "\n",
        "처음모델과 결합가능 \n",
        "\n",
        "이 RNN을 사용해 다음값 10개를 예측하고 이 값을 입력 시계열에 연결한후 다시 다음값 10개를 예측 \n",
        "\n",
        "- 긴 시계열이나 시퀀스에서 잘 작동하지 않음 "
      ]
    },
    {
      "cell_type": "markdown",
      "metadata": {
        "id": "ZVW-nkLcs8oC"
      },
      "source": [
        "![스크린샷 2021-05-02 오후 7.50.43.png](data:image/png;base64,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)"
      ]
    },
    {
      "cell_type": "markdown",
      "metadata": {
        "id": "n4TtnoTps_Tk"
      },
      "source": [
        "TimeDistributed를 통해 각 스텝 지점에서 발생하는 오류가 하위 스텝으로 전파됨\n",
        "\n",
        "반대로 TimeDistributed를 사용하지 않으면 오류가 마지막 층에서 한 번 계산되고 이것이 첫 스텝까지 전파된다\n",
        "\n",
        "각각 many-to-many, many-to-one RNN이라고 부름\n",
        "\n",
        "\n",
        "\n"
      ]
    },
    {
      "cell_type": "code",
      "metadata": {
        "id": "T6_y1AUzs-19"
      },
      "source": [
        ""
      ],
      "execution_count": null,
      "outputs": []
    }
  ]
}