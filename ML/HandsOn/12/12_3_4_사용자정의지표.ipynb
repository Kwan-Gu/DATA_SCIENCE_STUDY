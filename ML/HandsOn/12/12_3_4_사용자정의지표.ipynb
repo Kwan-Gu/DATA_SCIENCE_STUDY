{
  "nbformat": 4,
  "nbformat_minor": 0,
  "metadata": {
    "colab": {
      "name": "12.3.4-5.ipynb",
      "provenance": [],
      "collapsed_sections": []
    },
    "kernelspec": {
      "name": "python3",
      "display_name": "Python 3"
    }
  },
  "cells": [
    {
      "cell_type": "markdown",
      "metadata": {
        "id": "9xxrSBQngpAj"
      },
      "source": [
        "#**12.3.4 사용자 정의 지표**\n",
        "\n",
        "손실 \n",
        "- 모델을 훈련하기 위해 경사 하강법에서 사용하므로 미분 가능해야하고 그레디언트가 모든곳에서 0이 아니어야 함\n",
        "- 사람이 쉽게 이해할수 없어도 됨\n",
        "\n",
        "지표 \n",
        "- 모델을 평가할 때 사용 \n",
        "- 이해하기 쉬어야함 \n",
        "- 미분 가능하지 않거나 그래디언트가 0이어도 됨\n",
        "\n",
        "대부분의 경우 사용자 지표함수를 만드는 것은 사용자 손실함수를 만드는것과 동일 \n",
        "\n"
      ]
    },
    {
      "cell_type": "markdown",
      "metadata": {
        "id": "XnVpFzjQhfFf"
      },
      "source": [
        "\n",
        "\n",
        "precision\n",
        "- 모델이 true라고 분류한 것 중에서 실제 True인 것의 비율\n",
        "![스크린샷 2021-03-06 오후 9.39.43.png](data:image/png;base64,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)"
      ]
    },
    {
      "cell_type": "markdown",
      "metadata": {
        "id": "2lktx-9GjiOA"
      },
      "source": [
        "**keras.metrics.Precision**\n",
        "\n",
        "진짜 양성의 개수와 거짓양성의 개수를 기록하고 필요할때 정밀도를 계산할 수 있는 객체"
      ]
    },
    {
      "cell_type": "markdown",
      "metadata": {
        "id": "C_REvG5Mj2sY"
      },
      "source": [
        "precision = keras.metrics.Precision()\n"
      ]
    },
    {
      "cell_type": "code",
      "metadata": {
        "id": "tD8kb_iGj7oo"
      },
      "source": [
        "def precision(y_target, y_pred):\n",
        "    # clip(t, clip_value_min, clip_value_max) : clip_value_min~clip_value_max 이외 가장자리를 깎아 낸다\n",
        "    # round : 반올림한다\n",
        "    y_pred_yn = K.round(K.clip(y_pred, 0, 1)) # 예측값을 0(Negative) 또는 1(Positive)로 설정한다\n",
        "    y_target_yn = K.round(K.clip(y_target, 0, 1)) # 실제값을 0(Negative) 또는 1(Positive)로 설정한다\n",
        "\n",
        "    # True Positive는 실제 값과 예측 값이 모두 1(Positive)인 경우이다\n",
        "    count_true_positive = K.sum(y_target_yn * y_pred_yn) \n",
        "\n",
        "    # (True Positive + False Positive) = 예측 값이 1(Positive) 전체\n",
        "    count_true_positive_false_positive = K.sum(y_pred_yn)\n",
        "\n",
        "    # Precision = (True Positive) / (True Positive + False Positive)\n",
        "    # K.epsilon()는 'divide by zero error' 예방차원에서 작은 수를 더한다\n",
        "    precision = count_true_positive / (count_true_positive_false_positive + K.epsilon())\n",
        "\n",
        "    # return a single tensor value\n",
        "    return precision"
      ],
      "execution_count": null,
      "outputs": []
    },
    {
      "cell_type": "code",
      "metadata": {
        "colab": {
          "base_uri": "https://localhost:8080/",
          "height": 232
        },
        "id": "-m813DkKSgqf",
        "outputId": "f923e327-7c38-4737-847a-5f5b5328ba71"
      },
      "source": [
        "class HuberMetric(keras.metrics.Metric):\n",
        "  def __init(self, threshold=1.0 **kwargs):\n",
        "    super().__init(**kwargs)\n",
        "    self.threshold = threshold\n",
        "    self.huber_fn = create_huber(threshold)\n",
        "    self.total = self.add_weight(\"totla\", initializer=\"zeros\")\n",
        "    self.count = self.aadd_weight(\"count\", initializer=\"zeros\")\n",
        "  def update_state(self, y_true, y_pred, sample_weight=None):\n",
        "    metric = self.huber_fn(y_true, y_pred)\n",
        "    self.total.assign_add(tf.reduce_sum(metric))\n",
        "    self.count.assign_add(ft.cast(tf.size(y_true), tf.float32))\n",
        "  def result(self):\n",
        "    return self.total / self.count\n",
        "  def get_config(self):\n",
        "    base_config = super().get_config()\n",
        "    return {**base_config, \"threshold\": self.threshold}"
      ],
      "execution_count": null,
      "outputs": [
        {
          "output_type": "error",
          "ename": "NameError",
          "evalue": "ignored",
          "traceback": [
            "\u001b[0;31m---------------------------------------------------------------------------\u001b[0m",
            "\u001b[0;31mNameError\u001b[0m                                 Traceback (most recent call last)",
            "\u001b[0;32m<ipython-input-5-5fa301ba6576>\u001b[0m in \u001b[0;36m<module>\u001b[0;34m()\u001b[0m\n\u001b[0;32m----> 1\u001b[0;31m \u001b[0;32mclass\u001b[0m \u001b[0mHuberMetric\u001b[0m\u001b[0;34m(\u001b[0m\u001b[0mkeras\u001b[0m\u001b[0;34m.\u001b[0m\u001b[0mmetrics\u001b[0m\u001b[0;34m.\u001b[0m\u001b[0mMetric\u001b[0m\u001b[0;34m)\u001b[0m\u001b[0;34m:\u001b[0m\u001b[0;34m\u001b[0m\u001b[0;34m\u001b[0m\u001b[0m\n\u001b[0m\u001b[1;32m      2\u001b[0m   \u001b[0;32mdef\u001b[0m \u001b[0m__init\u001b[0m\u001b[0;34m(\u001b[0m\u001b[0mself\u001b[0m\u001b[0;34m,\u001b[0m \u001b[0mthreshold\u001b[0m\u001b[0;34m=\u001b[0m\u001b[0;36m1.0\u001b[0m \u001b[0;34m**\u001b[0m\u001b[0mkwargs\u001b[0m\u001b[0;34m)\u001b[0m\u001b[0;34m:\u001b[0m\u001b[0;34m\u001b[0m\u001b[0;34m\u001b[0m\u001b[0m\n\u001b[1;32m      3\u001b[0m     \u001b[0msuper\u001b[0m\u001b[0;34m(\u001b[0m\u001b[0;34m)\u001b[0m\u001b[0;34m.\u001b[0m\u001b[0m__init\u001b[0m\u001b[0;34m(\u001b[0m\u001b[0;34m**\u001b[0m\u001b[0mkwargs\u001b[0m\u001b[0;34m)\u001b[0m\u001b[0;34m\u001b[0m\u001b[0;34m\u001b[0m\u001b[0m\n\u001b[1;32m      4\u001b[0m     \u001b[0mself\u001b[0m\u001b[0;34m.\u001b[0m\u001b[0mthreshold\u001b[0m \u001b[0;34m=\u001b[0m \u001b[0mthreshold\u001b[0m\u001b[0;34m\u001b[0m\u001b[0;34m\u001b[0m\u001b[0m\n\u001b[1;32m      5\u001b[0m     \u001b[0mself\u001b[0m\u001b[0;34m.\u001b[0m\u001b[0mhuber_fn\u001b[0m \u001b[0;34m=\u001b[0m \u001b[0mcreate_huber\u001b[0m\u001b[0;34m(\u001b[0m\u001b[0mthreshold\u001b[0m\u001b[0;34m)\u001b[0m\u001b[0;34m\u001b[0m\u001b[0;34m\u001b[0m\u001b[0m\n",
            "\u001b[0;31mNameError\u001b[0m: name 'keras' is not defined"
          ]
        }
      ]
    },
    {
      "cell_type": "markdown",
      "metadata": {
        "id": "6b34f0M8kSMp"
      },
      "source": [
        "# **12.3.5 사용자 정의 층**\n",
        "텐서플로에는 없는 특이한 층을 가진 네트워크를 만들어야할때 사용자 정의 층을 만듦\n",
        "keras.layers.Flatten, ReLu같은 층은 가중치가 없음 \n",
        "가중치 함수를 만든후 람다층으로 감싸서 사용할수있음 \n",
        "\n",
        "exp_layer = keras.layers.Lambda(lambda x: tf.exp(x))"
      ]
    },
    {
      "cell_type": "code",
      "metadata": {
        "id": "f9du7nAHk7P9",
        "colab": {
          "base_uri": "https://localhost:8080/"
        },
        "outputId": "c5644f8b-ac06-4499-d790-a51adc7dd26d"
      },
      "source": [
        "from keras import backend as K\n",
        "from keras.engine.topology import Layer\n",
        "from keras import initializers\n",
        "from keras import models\n",
        "import numpy as np\n",
        " \n",
        "class MyDense(Layer):\n",
        "  def __init__(self, n_units, **kwargs):\n",
        "    self.n_units = n_units\n",
        "    super().__init__(**kwargs)\n",
        "    \n",
        "  def build(self, inshape): #initialise layer\n",
        "    self.w = self.add_weight(\"w\", (inshape[1], self.n_units),\n",
        "                            initializer=initializers.get('glorot_uniform'))\n",
        "    #add_weithgt 메소드로 가중치 추가 \n",
        "    self.b = self.add_weight(\"b\", (self.n_units,),\n",
        "                            initializer=initializers.get('zeros'))\n",
        "    super().build(inshape)\n",
        "    \n",
        "  def call(self, x): #이 층에 필요한 연산 수행후 반환 \n",
        "    return K.dot(x, self.w) + self.b\n",
        "  \n",
        "  def compute_output_shape(self, inshape): #return output size of layer\n",
        "    return (inshape[0], self.n_units)\n",
        "  \n",
        "x = np.array([0, 1, 2, 3, 4])\n",
        "y = x * 2 + 1\n",
        " \n",
        "model = models.Sequential()\n",
        "model.add(MyDense(1, input_shape=(1,)))\n",
        "model.compile('SGD', 'mse')\n",
        " \n",
        "model.fit(x[:2], y[:2], epochs=1000, verbose=0)\n",
        "print('Target:', y[2:])\n",
        "print('Predictions:', model.predict(x[2:]).flatten())\n"
      ],
      "execution_count": null,
      "outputs": [
        {
          "output_type": "stream",
          "text": [
            "Target: [5 7 9]\n",
            "Predictions: [4.997045 6.994907 8.992769]\n"
          ],
          "name": "stdout"
        }
      ]
    },
    {
      "cell_type": "markdown",
      "metadata": {
        "id": "en1SzfBFbfcz"
      },
      "source": [
        "훈련과 테스트에서 다르게 동작하는 층이 필요하다면 call()메서드에 training 매개변수를 추가하여 훈련인지 테스트인지 결정해야함 \n",
        "\n",
        "def call(self,X training=None):\n",
        "  \n",
        "  if training:\n",
        "    \n",
        "    noise\n",
        "    return X+noise\n",
        "  \n",
        "  else:\n",
        "  \n",
        "    return X"
      ]
    },
    {
      "cell_type": "markdown",
      "metadata": {
        "id": "NVG1alvEcFsY"
      },
      "source": [
        "케라스에는 keras.layers.GaussianNoise 층이 있음 \n"
      ]
    },
    {
      "cell_type": "code",
      "metadata": {
        "id": "8jlSGR0IT8ye"
      },
      "source": [
        ""
      ],
      "execution_count": null,
      "outputs": []
    }
  ]
}